{
 "cells": [
  {
   "cell_type": "code",
   "execution_count": 28,
   "metadata": {},
   "outputs": [
    {
     "name": "stderr",
     "output_type": "stream",
     "text": [
      "[WDM] - Downloading: 100%|██████████| 6.29M/6.29M [00:00<00:00, 7.67MB/s]\n",
      "C:\\Users\\Aren-Peace\\AppData\\Local\\Temp\\ipykernel_9160\\1100579598.py:7: DeprecationWarning: executable_path has been deprecated, please pass in a Service object\n",
      "  driver = webdriver.Chrome(ChromeDriverManager().install())\n"
     ]
    }
   ],
   "source": [
    "from asyncio.windows_events import NULL\n",
    "from importlib.resources import contents\n",
    "from webbrowser import get\n",
    "from googlesearch import search\n",
    "from selenium import webdriver\n",
    "from webdriver_manager.chrome import ChromeDriverManager\n",
    "driver = webdriver.Chrome(ChromeDriverManager().install())\n",
    "import re\n",
    "import json\n",
    "import time\n",
    "import requests\n",
    "import pandas as pd\n",
    "from pandas import DataFrame\n",
    "import os as o\n",
    "from bs4 import BeautifulSoup\n",
    "from urllib.request import urlopen\n",
    "import selenium\n",
    "from selenium import webdriver\n",
    "from selenium.common.exceptions import NoSuchElementException\n",
    "from selenium.webdriver.support.wait import WebDriverWait\n",
    "from selenium.webdriver.support import expected_conditions as EC\n",
    "from selenium.webdriver.common.keys import Keys\n",
    "from selenium.webdriver.common.by import By\n",
    "# driver = webdriver.Chrome(\"data_acquisition/chromedriver.exe\")\n",
    "# driver.get(\"https://www.immoweb.be/en\")"
   ]
  },
  {
   "cell_type": "code",
   "execution_count": 14,
   "metadata": {},
   "outputs": [
    {
     "name": "stdout",
     "output_type": "stream",
     "text": [
      "{'id': 10146915, 'cluster': None, 'customers': [{'id': 1989885, 'type': 'AGENCY', 'email': 'cryptxim_gent@importfrommedia.be', 'logoUrl': 'https://static.immoweb.be/logos/1989885.gif?cache=2020340909947', 'phoneNumber': None, 'mobileNumber': '+32 472 62 00 00', 'name': 'Immo Da Vinci', 'website': 'http://www.immodavinci.be', 'location': {'country': 'Belgium', 'region': None, 'province': 'East Flanders', 'district': 'Gent', 'locality': 'Gent', 'postalCode': '9000', 'street': 'Sint-Denijslaan 1', 'number': None, 'box': None, 'propertyName': None, 'floor': None, 'latitude': 51.03, 'longitude': 3.72, 'distance': None, 'approximated': None, 'regionCode': None, 'type': None, 'hasSeaView': None, 'pointsOfInterest': None, 'placeName': None}, 'ipiNo': '504254', 'isOwner': True, 'contactHoursMobile': 'anytime', 'contactHoursLandline': 'anytime', 'salesRepresentative': None, 'features': {'page404': True, 'investorFlag': False, 'relatedClassifieds': True, 'leafletsCTA': False, 'leadQualification': True, 'recommendation': True}}], 'premiumProjectPage': {'medias': None, 'options': None, 'promoter': None, 'tabs': None}, 'flags': {'isPublicSale': False, 'isNewClassified': True, 'isNewPrice': False, 'isInvestmentProject': False, 'isNewlyBuilt': True, 'isNotarySale': None, 'isLifeAnnuitySale': False, 'adQuality': None, 'date': None, 'priceSqm': None, 'price': None, 'default': None, 'isSoldOrRented': False, 'isLowEnergy': None, 'percentSold': None, 'isPassiveHouse': None, 'isNewRealEstateProject': False, 'isAnInteractiveSale': None, 'isUnderOption': False}, 'media': {'pictures': [{'smallUrl': 'https://static.immoweb.be/photos/1/0/1/4/6/9/1/5/10146915_1.gif?cache=20221003022912', 'mediumUrl': 'https://static.immoweb.be/photos/1/0/1/4/6/9/1/5/M_10146915_1.jpg?cache=20221003022912', 'largeUrl': 'https://static.immoweb.be/photos/1/0/1/4/6/9/1/5/10146915_1.jpg?cache=20221003022912', 'isVertical': False}, {'smallUrl': 'https://static.immoweb.be/photos/1/0/1/4/6/9/1/5/10146915_2.gif?cache=20221003022913', 'mediumUrl': 'https://static.immoweb.be/photos/1/0/1/4/6/9/1/5/M_10146915_2.jpg?cache=20221003022913', 'largeUrl': 'https://static.immoweb.be/photos/1/0/1/4/6/9/1/5/10146915_2.jpg?cache=20221003022913', 'isVertical': False}, {'smallUrl': 'https://static.immoweb.be/photos/1/0/1/4/6/9/1/5/10146915_3.gif?cache=20221003022913', 'mediumUrl': 'https://static.immoweb.be/photos/1/0/1/4/6/9/1/5/M_10146915_3.jpg?cache=20221003022913', 'largeUrl': 'https://static.immoweb.be/photos/1/0/1/4/6/9/1/5/10146915_3.jpg?cache=20221003022913', 'isVertical': False}, {'smallUrl': 'https://static.immoweb.be/photos/1/0/1/4/6/9/1/5/10146915_4.gif?cache=20221003022913', 'mediumUrl': 'https://static.immoweb.be/photos/1/0/1/4/6/9/1/5/M_10146915_4.jpg?cache=20221003022913', 'largeUrl': 'https://static.immoweb.be/photos/1/0/1/4/6/9/1/5/10146915_4.jpg?cache=20221003022913', 'isVertical': False}, {'smallUrl': 'https://static.immoweb.be/photos/1/0/1/4/6/9/1/5/10146915_5.gif?cache=20221003022913', 'mediumUrl': 'https://static.immoweb.be/photos/1/0/1/4/6/9/1/5/M_10146915_5.jpg?cache=20221003022913', 'largeUrl': 'https://static.immoweb.be/photos/1/0/1/4/6/9/1/5/10146915_5.jpg?cache=20221003022913', 'isVertical': False}, {'smallUrl': 'https://static.immoweb.be/photos/1/0/1/4/6/9/1/5/10146915_6.gif?cache=20221003022913', 'mediumUrl': 'https://static.immoweb.be/photos/1/0/1/4/6/9/1/5/M_10146915_6.jpg?cache=20221003022913', 'largeUrl': 'https://static.immoweb.be/photos/1/0/1/4/6/9/1/5/10146915_6.jpg?cache=20221003022913', 'isVertical': False}, {'smallUrl': 'https://static.immoweb.be/photos/1/0/1/4/6/9/1/5/10146915_7.gif?cache=20221003022913', 'mediumUrl': 'https://static.immoweb.be/photos/1/0/1/4/6/9/1/5/M_10146915_7.jpg?cache=20221003022913', 'largeUrl': 'https://static.immoweb.be/photos/1/0/1/4/6/9/1/5/10146915_7.jpg?cache=20221003022913', 'isVertical': False}, {'smallUrl': 'https://static.immoweb.be/photos/1/0/1/4/6/9/1/5/10146915_8.gif?cache=20221003022913', 'mediumUrl': 'https://static.immoweb.be/photos/1/0/1/4/6/9/1/5/M_10146915_8.jpg?cache=20221003022913', 'largeUrl': 'https://static.immoweb.be/photos/1/0/1/4/6/9/1/5/10146915_8.jpg?cache=20221003022913', 'isVertical': False}, {'smallUrl': 'https://static.immoweb.be/photos/1/0/1/4/6/9/1/5/10146915_9.gif?cache=20221003022913', 'mediumUrl': 'https://static.immoweb.be/photos/1/0/1/4/6/9/1/5/M_10146915_9.jpg?cache=20221003022913', 'largeUrl': 'https://static.immoweb.be/photos/1/0/1/4/6/9/1/5/10146915_9.jpg?cache=20221003022913', 'isVertical': False}, {'smallUrl': 'https://static.immoweb.be/photos/1/0/1/4/6/9/1/5/10146915_0.gif?cache=20221003022912', 'mediumUrl': 'https://static.immoweb.be/photos/1/0/1/4/6/9/1/5/M_10146915_0.jpg?cache=20221003022912', 'largeUrl': 'https://static.immoweb.be/photos/1/0/1/4/6/9/1/5/10146915_0.jpg?cache=20221003022912', 'isVertical': False}], 'virtualTourUrl': None, 'floorPlans': None, 'specifications': None, 'virtualExperienceUrl': None}, 'property': {'type': 'APARTMENT', 'subtype': 'APARTMENT', 'title': 'Wonen in het park in Gavere.', 'description': 'Nieuwbouwproject \"Gaverling\" in het centrum van Gavere.  Ligging en omgeving: In hartje Gavere langs de Onderstraat, op wandelafstand van de Gaverse Markt en omgeven door glooiend groen. Ontdek uw toekomstige thuis in het mooie Gavere met zijn pittoreske Valeirfietsroute, het natuurgebied Kriephoek-Bolveerput en gezellige ondernemende bruisende centrum. Zoekt u een gezellige, goed gelegen en tevens groene omgeving, weg van het drukke stadsleven maar ook niet te ver weg ? Dan is Gaverling iets voor u!  Project en afwerking: Gaverling is een nieuw te bouwen ontwikkeling met 6 kleinschalige gebouwen rond een groen binnengebied. U vindt hier een boeiende diversiteit van betaalbare woningen en 1-, 2- en 3-slaapkamerappartementen. Elke woonunit geniet bovendien van een aangename privé buitenruimte. De appartementen en woningen zullen voldoen aan de BEN normering en worden afgewerkt met kwalitatieve tijdloze materialen Hier wonen staat voor comfortabel en zuinig wonen. .  Voetgangers en fietsers krijgen hier absoluut voorrang, met de auto kan U terecht in de ondergrondse parking (mits meerprijs), waar ook een ruime fietsenberging voorzien wordt.  !Dit project komt in aanmerking voor aankoop onder 6%btw op constructie indien de koper voldoet aan de voorwaarden! E-peil 30 - EPC: nog niet gekend. KI: nog niet gekend.   Contacteer ons voor meer informatie 0488/14 62 77', 'name': None, 'isHolidayProperty': None, 'bedroomCount': 2, 'bedrooms': [{'surface': 16}, {'surface': 10}], 'bathroomCount': 1, 'bathrooms': [], 'location': {'country': 'Belgium', 'region': 'Flanders', 'province': 'East Flanders', 'district': 'Gent', 'locality': 'Gavere', 'postalCode': '9890', 'street': 'Egmont Park', 'number': '10', 'box': '10 02', 'propertyName': None, 'floor': 1, 'latitude': 50.9284071, 'longitude': 3.679605, 'distance': None, 'approximated': None, 'regionCode': 'FLANDERS', 'type': 'URBAN', 'hasSeaView': None, 'pointsOfInterest': [{'type': 'SCHOOL', 'distance': 1100}, {'type': 'SHOPS', 'distance': 600}, {'type': 'TRANSPORT', 'distance': 0}], 'placeName': 'Gent en omstreken'}, 'netHabitableSurface': 101, 'roomCount': None, 'monthlyCosts': None, 'attic': None, 'hasAttic': None, 'basement': None, 'hasBasement': None, 'hasDressingRoom': None, 'diningRoom': None, 'hasDiningRoom': None, 'building': {'annexCount': None, 'condition': 'AS_NEW', 'constructionYear': 2021, 'facadeCount': 4, 'floorCount': 2, 'streetFacadeWidth': None}, 'propertyCertificates': {'builtPlanStatus': 'NO', 'globalInsulationLevel': None, 'oilTankCertificateStatus': None, 'primaryEnergyConsumptionLevel': None}, 'hasCaretakerOrConcierge': None, 'hasDisabledAccess': True, 'hasLift': True, 'constructionPermit': {'constructionType': None, 'floodZoneType': 'NON_FLOOD_ZONE', 'isObtained': True, 'hasObligationToConstruct': None, 'hasPlotDivisionAuthorization': False, 'hasPossiblePriorityPurchaseRight': False, 'isBreachingUrbanPlanningRegulation': None, 'floodZoneIconUrl': None, 'totalBuildableGroundFloorSurface': 0, 'urbanPlanningInformation': None}, 'energy': {'heatingType': 'GAS', 'hasHeatPump': None, 'hasPhotovoltaicPanels': None, 'hasThermicPanels': True, 'hasCollectiveWaterHeater': None, 'hasDoubleGlazing': True, 'performance': None}, 'kitchen': {'surface': 7, 'type': 'HYPER_EQUIPPED', 'hasOven': None, 'hasMicroWaveOven': None, 'hasDishwasher': None, 'hasWashingMachine': None, 'hasFridge': None, 'hasFreezer': None, 'hasSteamOven': None}, 'land': {'hasGasWaterElectricityConnection': None, 'hasPlotToRear': None, 'isFacingStreet': None, 'isFlat': None, 'isWooded': None, 'landWidth': None, 'latestUseDesignation': 'RES', 'rearLand': None, 'sewerConnection': None, 'surface': None}, 'laundryRoom': None, 'hasLaundryRoom': None, 'livingRoom': {'surface': 30}, 'hasLivingRoom': True, 'isFirstOccupation': None, 'hasBalcony': None, 'hasBarbecue': None, 'hasGarden': None, 'gardenSurface': None, 'gardenOrientation': None, 'parkingCountIndoor': None, 'parkingCountOutdoor': None, 'parkingCountClosedBox': None, 'hasAirConditioning': None, 'hasArmoredDoor': None, 'hasVisiophone': True, 'hasSecureAccessAlarm': None, 'hasCableTV': True, 'hasDoorPhone': None, 'hasInternet': None, 'showerRoomCount': 0, 'showerRooms': [], 'specificities': None, 'toiletCount': 1, 'toilets': [], 'hasFitnessRoom': None, 'hasTennisCourt': None, 'hasSwimmingPool': False, 'hasSauna': None, 'hasJacuzzi': None, 'hasHammam': None, 'bedroomSurface': None, 'alternativeDescriptions': {'fr': 'Nieuwbouwproject \"Gaverling\" in het centrum van Gavere.  Ligging en omgeving: In hartje Gavere langs de Onderstraat, op wandelafstand van de Gaverse Markt en omgeven door glooiend groen. Ontdek uw toekomstige thuis in het mooie Gavere met zijn pittoreske Valeirfietsroute, het natuurgebied Kriephoek-Bolveerput en gezellige ondernemende bruisende centrum. Zoekt u een gezellige, goed gelegen en tevens groene omgeving, weg van het drukke stadsleven maar ook niet te ver weg ? Dan is Gaverling iets voor u!  Project en afwerking: Gaverling is een nieuw te bouwen ontwikkeling met 6 kleinschalige gebouwen rond een groen binnengebied. U vindt hier een boeiende diversiteit van betaalbare woningen en 1-, 2- en 3-slaapkamerappartementen. Elke woonunit geniet bovendien van een aangename privé buitenruimte. De appartementen en woningen zullen voldoen aan de BEN normering en worden afgewerkt met kwalitatieve tijdloze materialen Hier wonen staat voor comfortabel en zuinig wonen. .  Voetgangers en fietsers krijgen hier absoluut voorrang, met de auto kan U terecht in de ondergrondse parking (mits meerprijs), waar ook een ruime fietsenberging voorzien wordt.  !Dit project komt in aanmerking voor aankoop onder 6%btw op constructie indien de koper voldoet aan de voorwaarden! E-peil 30 - EPC: nog niet gekend. KI: nog niet gekend.   Contacteer ons voor meer informatie 0488/14 62 77', 'nl': 'Nieuwbouwproject \"Gaverling\" in het centrum van Gavere.   Ligging en omgeving:  In hartje Gavere langs de Onderstraat,  op wandelafstand van de Gaverse Markt en omgeven door glooiend groen. Ontdek uw toekomstige thuis in het mooie Gavere met zijn pittoreske Valeirfietsroute, het natuurgebied Kriephoek-Bolveerput en gezellige ondernemende bruisende centrum. Zoekt u een gezellige, goed gelegen en tevens groene omgeving, weg van het drukke stadsleven maar ook niet te ver weg ? Dan is Gaverling iets voor u!  Project en afwerking:  Gaverling is een nieuw te bouwen ontwikkeling met  6 kleinschalige gebouwen rond een groen binnengebied.  U vindt hier een boeiende diversiteit van betaalbare woningen en 1-, 2- en 3-slaapkamerappartementen.  Elke woonunit geniet bovendien van een aangename privé buitenruimte. De appartementen en woningen zullen voldoen aan de BEN normering en worden afgewerkt met kwalitatieve tijdloze materialen Hier wonen staat voor comfortabel en zuinig wonen. .  Voetgangers en fietsers krijgen hier absoluut voorrang, met de auto kan U terecht in de ondergrondse parking (mits meerprijs), waar ook een ruime fietsenberging voorzien wordt.  !Dit project komt in aanmerking voor aankoop onder 6%btw op constructie indien de koper voldoet aan de voorwaarden! E-peil 30 - EPC: nog niet gekend. KI: nog niet gekend.   Contacteer ons voor meer informatie 0488/14 62 77'}, 'habitableUnitCount': None, 'fireplaceCount': None, 'fireplaceExists': False, 'hasTerrace': True, 'terraceSurface': 9, 'terraceOrientation': None}, 'publication': {'creationDate': '2022-10-03T02:26:04.000+0000', 'expirationDate': '2023-02-14T22:00:00.000+0000', 'publisherId': None, 'visualisationOption': 'XL', 'lastModificationDate': '2022-10-07T08:41:43.807+0000'}, 'transaction': {'type': 'FOR_SALE', 'subtype': 'BUY_REGULAR', 'availabilityPeriodType': 'AT_DELIVERY', 'availabilityDate': None, 'certificates': {'carbonEmission': None, 'hasElectricalInstallationComplianceCertificate': None, 'primaryEnergyConsumptionPerSqm': 1, 'primaryEnergyConsumptionYearly': None, 'epcDescription': None, 'epcReference': None, 'epcScore': 'A', 'epcUrl': 'https://static.immoweb.be/pics/peb/fla/a.png'}, 'rental': None, 'sale': {'price': 339000, 'isSubjectToVat': True, 'cadastralIncome': 1, 'publicSale': None, 'pricePerSqm': None, 'oldPrice': None, 'lifeAnnuity': None, 'hasStartingPrice': False, 'isFurnished': False, 'homeToBuild': None}, 'investor': {'isInvestmentProperty': False, 'currentMonthlyRentalIncome': None, 'currentReturnOnInvestment': None, 'expectedMonthlyRentalIncome': None, 'expectedMonthlyRentalIncomeDescription': None, 'expectedReturnOnInvestment': None, 'habitableUnitCount': None, 'occupancyRate': None}}, 'priceType': None, 'price': {'type': 'residential_sale', 'mainValue': 339000, 'alternativeValue': None, 'additionalValue': None, 'oldValue': None, 'minRangeValue': None, 'maxRangeValue': None, 'mainDisplayPrice': '€339,000', 'HTMLDisplayPrice': '<span aria-hidden=\"true\">€339,000</span>', 'alternativeDisplayPrice': '', 'oldDisplayPrice': None, 'shortDisplayPrice': '€339K', 'accessibilityPrice': '339000€', 'label': 'Price', 'date': None, 'language': 'en'}, 'externalReference': '4964469', 'isBookmarked': False, 'hasSectionsArray': {'hasGeneralSection': True, 'hasInteriorSection': True, 'hasExteriorSection': True, 'hasFacilitiesSection': True, 'hasEnergySection': True, 'hasPlanningSection': True, 'hasFinancialSection': True, 'hasPublicSaleSection': False}, 'unitGroupings': [], 'displayFlags': {'main': 'new', 'secondary': ['new_construction'], 'percentSold': None}, 'statistics': {'bookmarkCount': 1, 'viewCount': 530, 'alertPrice': None, 'creationDate': None, 'description': None, 'isAlertEmailSet': None, 'rating': None, 'wasOwnerContacted': None, 'wasPropertyVisited': None}}\n"
     ]
    }
   ],
   "source": [
    "from asyncio.windows_events import NULL\n",
    "def get_data_property(property_url):\n",
    "    req = requests.get(property_url)\n",
    "    soup = BeautifulSoup(req.text, \"html.parser\") \n",
    "    # text = str(req.content)\n",
    "    # return text\n",
    "    # return soup.prettify\n",
    "\n",
    "    content = soup.find(\"script\", {\"type\": \"text/javascript\"}).contents[0]\n",
    "    content = content[content.find('{'): content.rfind(';')]\n",
    "    load_json = json.loads(content)\n",
    "    print(load_json)\n",
    "    #dictionary = {\"id\": load_json}\n",
    "    #return dictionary\n",
    "get_data_property(\"https://www.immoweb.be/en/classified/apartment/for-sale/gavere/9890/10146915\")\n",
    "\n",
    "\n",
    "\n",
    "\n",
    "\n",
    "    #remove everything which is before the first curling bracket\n",
    "    #remove the final semi colon (;)\n",
    "    #load the content into a json \n",
    "    #create a new dictionary with the relevant information from the json\n",
    "    #return the new dictionary\n",
    "    "
   ]
  },
  {
   "cell_type": "code",
   "execution_count": 16,
   "metadata": {},
   "outputs": [
    {
     "name": "stdout",
     "output_type": "stream",
     "text": [
      "{'id': 10146915, 'cluster': None, 'customers': [{'id': 1989885, 'type': 'AGENCY', 'email': 'cryptxim_gent@importfrommedia.be', 'logoUrl': 'https://static.immoweb.be/logos/1989885.gif?cache=2020340909947', 'phoneNumber': None, 'mobileNumber': '+32 472 62 00 00', 'name': 'Immo Da Vinci', 'website': 'http://www.immodavinci.be', 'location': {'country': 'Belgium', 'region': None, 'province': 'East Flanders', 'district': 'Gent', 'locality': 'Gent', 'postalCode': '9000', 'street': 'Sint-Denijslaan 1', 'number': None, 'box': None, 'propertyName': None, 'floor': None, 'latitude': 51.03, 'longitude': 3.72, 'distance': None, 'approximated': None, 'regionCode': None, 'type': None, 'hasSeaView': None, 'pointsOfInterest': None, 'placeName': None}, 'ipiNo': '504254', 'isOwner': True, 'contactHoursMobile': 'anytime', 'contactHoursLandline': 'anytime', 'salesRepresentative': None, 'features': {'page404': True, 'investorFlag': False, 'relatedClassifieds': True, 'leafletsCTA': False, 'leadQualification': True, 'recommendation': True}}], 'premiumProjectPage': {'medias': None, 'options': None, 'promoter': None, 'tabs': None}, 'flags': {'isPublicSale': False, 'isNewClassified': True, 'isNewPrice': False, 'isInvestmentProject': False, 'isNewlyBuilt': True, 'isNotarySale': None, 'isLifeAnnuitySale': False, 'adQuality': None, 'date': None, 'priceSqm': None, 'price': None, 'default': None, 'isSoldOrRented': False, 'isLowEnergy': None, 'percentSold': None, 'isPassiveHouse': None, 'isNewRealEstateProject': False, 'isAnInteractiveSale': None, 'isUnderOption': False}, 'media': {'pictures': [{'smallUrl': 'https://static.immoweb.be/photos/1/0/1/4/6/9/1/5/10146915_1.gif?cache=20221003022912', 'mediumUrl': 'https://static.immoweb.be/photos/1/0/1/4/6/9/1/5/M_10146915_1.jpg?cache=20221003022912', 'largeUrl': 'https://static.immoweb.be/photos/1/0/1/4/6/9/1/5/10146915_1.jpg?cache=20221003022912', 'isVertical': False}, {'smallUrl': 'https://static.immoweb.be/photos/1/0/1/4/6/9/1/5/10146915_2.gif?cache=20221003022913', 'mediumUrl': 'https://static.immoweb.be/photos/1/0/1/4/6/9/1/5/M_10146915_2.jpg?cache=20221003022913', 'largeUrl': 'https://static.immoweb.be/photos/1/0/1/4/6/9/1/5/10146915_2.jpg?cache=20221003022913', 'isVertical': False}, {'smallUrl': 'https://static.immoweb.be/photos/1/0/1/4/6/9/1/5/10146915_3.gif?cache=20221003022913', 'mediumUrl': 'https://static.immoweb.be/photos/1/0/1/4/6/9/1/5/M_10146915_3.jpg?cache=20221003022913', 'largeUrl': 'https://static.immoweb.be/photos/1/0/1/4/6/9/1/5/10146915_3.jpg?cache=20221003022913', 'isVertical': False}, {'smallUrl': 'https://static.immoweb.be/photos/1/0/1/4/6/9/1/5/10146915_4.gif?cache=20221003022913', 'mediumUrl': 'https://static.immoweb.be/photos/1/0/1/4/6/9/1/5/M_10146915_4.jpg?cache=20221003022913', 'largeUrl': 'https://static.immoweb.be/photos/1/0/1/4/6/9/1/5/10146915_4.jpg?cache=20221003022913', 'isVertical': False}, {'smallUrl': 'https://static.immoweb.be/photos/1/0/1/4/6/9/1/5/10146915_5.gif?cache=20221003022913', 'mediumUrl': 'https://static.immoweb.be/photos/1/0/1/4/6/9/1/5/M_10146915_5.jpg?cache=20221003022913', 'largeUrl': 'https://static.immoweb.be/photos/1/0/1/4/6/9/1/5/10146915_5.jpg?cache=20221003022913', 'isVertical': False}, {'smallUrl': 'https://static.immoweb.be/photos/1/0/1/4/6/9/1/5/10146915_6.gif?cache=20221003022913', 'mediumUrl': 'https://static.immoweb.be/photos/1/0/1/4/6/9/1/5/M_10146915_6.jpg?cache=20221003022913', 'largeUrl': 'https://static.immoweb.be/photos/1/0/1/4/6/9/1/5/10146915_6.jpg?cache=20221003022913', 'isVertical': False}, {'smallUrl': 'https://static.immoweb.be/photos/1/0/1/4/6/9/1/5/10146915_7.gif?cache=20221003022913', 'mediumUrl': 'https://static.immoweb.be/photos/1/0/1/4/6/9/1/5/M_10146915_7.jpg?cache=20221003022913', 'largeUrl': 'https://static.immoweb.be/photos/1/0/1/4/6/9/1/5/10146915_7.jpg?cache=20221003022913', 'isVertical': False}, {'smallUrl': 'https://static.immoweb.be/photos/1/0/1/4/6/9/1/5/10146915_8.gif?cache=20221003022913', 'mediumUrl': 'https://static.immoweb.be/photos/1/0/1/4/6/9/1/5/M_10146915_8.jpg?cache=20221003022913', 'largeUrl': 'https://static.immoweb.be/photos/1/0/1/4/6/9/1/5/10146915_8.jpg?cache=20221003022913', 'isVertical': False}, {'smallUrl': 'https://static.immoweb.be/photos/1/0/1/4/6/9/1/5/10146915_9.gif?cache=20221003022913', 'mediumUrl': 'https://static.immoweb.be/photos/1/0/1/4/6/9/1/5/M_10146915_9.jpg?cache=20221003022913', 'largeUrl': 'https://static.immoweb.be/photos/1/0/1/4/6/9/1/5/10146915_9.jpg?cache=20221003022913', 'isVertical': False}, {'smallUrl': 'https://static.immoweb.be/photos/1/0/1/4/6/9/1/5/10146915_0.gif?cache=20221003022912', 'mediumUrl': 'https://static.immoweb.be/photos/1/0/1/4/6/9/1/5/M_10146915_0.jpg?cache=20221003022912', 'largeUrl': 'https://static.immoweb.be/photos/1/0/1/4/6/9/1/5/10146915_0.jpg?cache=20221003022912', 'isVertical': False}], 'virtualTourUrl': None, 'floorPlans': None, 'specifications': None, 'virtualExperienceUrl': None}, 'property': {'type': 'APARTMENT', 'subtype': 'APARTMENT', 'title': 'Wonen in het park in Gavere.', 'description': 'Nieuwbouwproject \"Gaverling\" in het centrum van Gavere.  Ligging en omgeving: In hartje Gavere langs de Onderstraat, op wandelafstand van de Gaverse Markt en omgeven door glooiend groen. Ontdek uw toekomstige thuis in het mooie Gavere met zijn pittoreske Valeirfietsroute, het natuurgebied Kriephoek-Bolveerput en gezellige ondernemende bruisende centrum. Zoekt u een gezellige, goed gelegen en tevens groene omgeving, weg van het drukke stadsleven maar ook niet te ver weg ? Dan is Gaverling iets voor u!  Project en afwerking: Gaverling is een nieuw te bouwen ontwikkeling met 6 kleinschalige gebouwen rond een groen binnengebied. U vindt hier een boeiende diversiteit van betaalbare woningen en 1-, 2- en 3-slaapkamerappartementen. Elke woonunit geniet bovendien van een aangename privé buitenruimte. De appartementen en woningen zullen voldoen aan de BEN normering en worden afgewerkt met kwalitatieve tijdloze materialen Hier wonen staat voor comfortabel en zuinig wonen. .  Voetgangers en fietsers krijgen hier absoluut voorrang, met de auto kan U terecht in de ondergrondse parking (mits meerprijs), waar ook een ruime fietsenberging voorzien wordt.  !Dit project komt in aanmerking voor aankoop onder 6%btw op constructie indien de koper voldoet aan de voorwaarden! E-peil 30 - EPC: nog niet gekend. KI: nog niet gekend.   Contacteer ons voor meer informatie 0488/14 62 77', 'name': None, 'isHolidayProperty': None, 'bedroomCount': 2, 'bedrooms': [{'surface': 16}, {'surface': 10}], 'bathroomCount': 1, 'bathrooms': [], 'location': {'country': 'Belgium', 'region': 'Flanders', 'province': 'East Flanders', 'district': 'Gent', 'locality': 'Gavere', 'postalCode': '9890', 'street': 'Egmont Park', 'number': '10', 'box': '10 02', 'propertyName': None, 'floor': 1, 'latitude': 50.9284071, 'longitude': 3.679605, 'distance': None, 'approximated': None, 'regionCode': 'FLANDERS', 'type': 'URBAN', 'hasSeaView': None, 'pointsOfInterest': [{'type': 'SCHOOL', 'distance': 1100}, {'type': 'SHOPS', 'distance': 600}, {'type': 'TRANSPORT', 'distance': 0}], 'placeName': 'Gent en omstreken'}, 'netHabitableSurface': 101, 'roomCount': None, 'monthlyCosts': None, 'attic': None, 'hasAttic': None, 'basement': None, 'hasBasement': None, 'hasDressingRoom': None, 'diningRoom': None, 'hasDiningRoom': None, 'building': {'annexCount': None, 'condition': 'AS_NEW', 'constructionYear': 2021, 'facadeCount': 4, 'floorCount': 2, 'streetFacadeWidth': None}, 'propertyCertificates': {'builtPlanStatus': 'NO', 'globalInsulationLevel': None, 'oilTankCertificateStatus': None, 'primaryEnergyConsumptionLevel': None}, 'hasCaretakerOrConcierge': None, 'hasDisabledAccess': True, 'hasLift': True, 'constructionPermit': {'constructionType': None, 'floodZoneType': 'NON_FLOOD_ZONE', 'isObtained': True, 'hasObligationToConstruct': None, 'hasPlotDivisionAuthorization': False, 'hasPossiblePriorityPurchaseRight': False, 'isBreachingUrbanPlanningRegulation': None, 'floodZoneIconUrl': None, 'totalBuildableGroundFloorSurface': 0, 'urbanPlanningInformation': None}, 'energy': {'heatingType': 'GAS', 'hasHeatPump': None, 'hasPhotovoltaicPanels': None, 'hasThermicPanels': True, 'hasCollectiveWaterHeater': None, 'hasDoubleGlazing': True, 'performance': None}, 'kitchen': {'surface': 7, 'type': 'HYPER_EQUIPPED', 'hasOven': None, 'hasMicroWaveOven': None, 'hasDishwasher': None, 'hasWashingMachine': None, 'hasFridge': None, 'hasFreezer': None, 'hasSteamOven': None}, 'land': {'hasGasWaterElectricityConnection': None, 'hasPlotToRear': None, 'isFacingStreet': None, 'isFlat': None, 'isWooded': None, 'landWidth': None, 'latestUseDesignation': 'RES', 'rearLand': None, 'sewerConnection': None, 'surface': None}, 'laundryRoom': None, 'hasLaundryRoom': None, 'livingRoom': {'surface': 30}, 'hasLivingRoom': True, 'isFirstOccupation': None, 'hasBalcony': None, 'hasBarbecue': None, 'hasGarden': None, 'gardenSurface': None, 'gardenOrientation': None, 'parkingCountIndoor': None, 'parkingCountOutdoor': None, 'parkingCountClosedBox': None, 'hasAirConditioning': None, 'hasArmoredDoor': None, 'hasVisiophone': True, 'hasSecureAccessAlarm': None, 'hasCableTV': True, 'hasDoorPhone': None, 'hasInternet': None, 'showerRoomCount': 0, 'showerRooms': [], 'specificities': None, 'toiletCount': 1, 'toilets': [], 'hasFitnessRoom': None, 'hasTennisCourt': None, 'hasSwimmingPool': False, 'hasSauna': None, 'hasJacuzzi': None, 'hasHammam': None, 'bedroomSurface': None, 'alternativeDescriptions': {'fr': 'Nieuwbouwproject \"Gaverling\" in het centrum van Gavere.  Ligging en omgeving: In hartje Gavere langs de Onderstraat, op wandelafstand van de Gaverse Markt en omgeven door glooiend groen. Ontdek uw toekomstige thuis in het mooie Gavere met zijn pittoreske Valeirfietsroute, het natuurgebied Kriephoek-Bolveerput en gezellige ondernemende bruisende centrum. Zoekt u een gezellige, goed gelegen en tevens groene omgeving, weg van het drukke stadsleven maar ook niet te ver weg ? Dan is Gaverling iets voor u!  Project en afwerking: Gaverling is een nieuw te bouwen ontwikkeling met 6 kleinschalige gebouwen rond een groen binnengebied. U vindt hier een boeiende diversiteit van betaalbare woningen en 1-, 2- en 3-slaapkamerappartementen. Elke woonunit geniet bovendien van een aangename privé buitenruimte. De appartementen en woningen zullen voldoen aan de BEN normering en worden afgewerkt met kwalitatieve tijdloze materialen Hier wonen staat voor comfortabel en zuinig wonen. .  Voetgangers en fietsers krijgen hier absoluut voorrang, met de auto kan U terecht in de ondergrondse parking (mits meerprijs), waar ook een ruime fietsenberging voorzien wordt.  !Dit project komt in aanmerking voor aankoop onder 6%btw op constructie indien de koper voldoet aan de voorwaarden! E-peil 30 - EPC: nog niet gekend. KI: nog niet gekend.   Contacteer ons voor meer informatie 0488/14 62 77', 'nl': 'Nieuwbouwproject \"Gaverling\" in het centrum van Gavere.   Ligging en omgeving:  In hartje Gavere langs de Onderstraat,  op wandelafstand van de Gaverse Markt en omgeven door glooiend groen. Ontdek uw toekomstige thuis in het mooie Gavere met zijn pittoreske Valeirfietsroute, het natuurgebied Kriephoek-Bolveerput en gezellige ondernemende bruisende centrum. Zoekt u een gezellige, goed gelegen en tevens groene omgeving, weg van het drukke stadsleven maar ook niet te ver weg ? Dan is Gaverling iets voor u!  Project en afwerking:  Gaverling is een nieuw te bouwen ontwikkeling met  6 kleinschalige gebouwen rond een groen binnengebied.  U vindt hier een boeiende diversiteit van betaalbare woningen en 1-, 2- en 3-slaapkamerappartementen.  Elke woonunit geniet bovendien van een aangename privé buitenruimte. De appartementen en woningen zullen voldoen aan de BEN normering en worden afgewerkt met kwalitatieve tijdloze materialen Hier wonen staat voor comfortabel en zuinig wonen. .  Voetgangers en fietsers krijgen hier absoluut voorrang, met de auto kan U terecht in de ondergrondse parking (mits meerprijs), waar ook een ruime fietsenberging voorzien wordt.  !Dit project komt in aanmerking voor aankoop onder 6%btw op constructie indien de koper voldoet aan de voorwaarden! E-peil 30 - EPC: nog niet gekend. KI: nog niet gekend.   Contacteer ons voor meer informatie 0488/14 62 77'}, 'habitableUnitCount': None, 'fireplaceCount': None, 'fireplaceExists': False, 'hasTerrace': True, 'terraceSurface': 9, 'terraceOrientation': None}, 'publication': {'creationDate': '2022-10-03T02:26:04.000+0000', 'expirationDate': '2023-02-14T22:00:00.000+0000', 'publisherId': None, 'visualisationOption': 'XL', 'lastModificationDate': '2022-10-07T08:41:43.807+0000'}, 'transaction': {'type': 'FOR_SALE', 'subtype': 'BUY_REGULAR', 'availabilityPeriodType': 'AT_DELIVERY', 'availabilityDate': None, 'certificates': {'carbonEmission': None, 'hasElectricalInstallationComplianceCertificate': None, 'primaryEnergyConsumptionPerSqm': 1, 'primaryEnergyConsumptionYearly': None, 'epcDescription': None, 'epcReference': None, 'epcScore': 'A', 'epcUrl': 'https://static.immoweb.be/pics/peb/fla/a.png'}, 'rental': None, 'sale': {'price': 339000, 'isSubjectToVat': True, 'cadastralIncome': 1, 'publicSale': None, 'pricePerSqm': None, 'oldPrice': None, 'lifeAnnuity': None, 'hasStartingPrice': False, 'isFurnished': False, 'homeToBuild': None}, 'investor': {'isInvestmentProperty': False, 'currentMonthlyRentalIncome': None, 'currentReturnOnInvestment': None, 'expectedMonthlyRentalIncome': None, 'expectedMonthlyRentalIncomeDescription': None, 'expectedReturnOnInvestment': None, 'habitableUnitCount': None, 'occupancyRate': None}}, 'priceType': None, 'price': {'type': 'residential_sale', 'mainValue': 339000, 'alternativeValue': None, 'additionalValue': None, 'oldValue': None, 'minRangeValue': None, 'maxRangeValue': None, 'mainDisplayPrice': '€339,000', 'HTMLDisplayPrice': '<span aria-hidden=\"true\">€339,000</span>', 'alternativeDisplayPrice': '', 'oldDisplayPrice': None, 'shortDisplayPrice': '€339K', 'accessibilityPrice': '339000€', 'label': 'Price', 'date': None, 'language': 'en'}, 'externalReference': '4964469', 'isBookmarked': False, 'hasSectionsArray': {'hasGeneralSection': True, 'hasInteriorSection': True, 'hasExteriorSection': True, 'hasFacilitiesSection': True, 'hasEnergySection': True, 'hasPlanningSection': True, 'hasFinancialSection': True, 'hasPublicSaleSection': False}, 'unitGroupings': [], 'displayFlags': {'main': 'new', 'secondary': ['new_construction'], 'percentSold': None}, 'statistics': {'bookmarkCount': 1, 'viewCount': 530, 'alertPrice': None, 'creationDate': None, 'description': None, 'isAlertEmailSet': None, 'rating': None, 'wasOwnerContacted': None, 'wasPropertyVisited': None}}\n",
      "None\n",
      "#main-content\n",
      "https://www.immoweb.be/en/agency/immo-da-vinci/1989885\n",
      "https://www.immoweb.be/en/page/about-immoweb\n",
      "https://www.immoweb.be/en/page/the-immoweb-newsroom\n",
      "https://www.linkedin.com/company/immoweb/jobs/\n",
      "https://www.axelspringer.com/en/?utm_source=website&utm_medium=referral&utm_campaign=footer&utm_content=en\n",
      "https://www.seloger.com/?utm_source=immoweb.be&utm_medium=referral&utm_campaign=footer&utm_content=en\n",
      "https://www.immowelt.de/?utm_source=immoweb.be&utm_medium=referral&utm_campaign=footer&utm_content=en\n",
      "https://valuation.immoweb.be/real-estate-estimate/seg1?utm_source=website&utm_medium=referral&utm_campaign=valuation_website_static&utm_content=section?utm_source=website&utm_medium=referral&utm_campaign=menu\n",
      "https://price.immoweb.be/en?utm_source=website&utm_medium=referral&utm_campaign=pricemap-autopromo-static&utm_content=footer\n",
      "https://www.immoweb.be/en/credit-application?icid_to=mortgage&icid_cta=footer\n",
      "https://protect.immoweb.be/tenant-home-insurance/landing?utm_source=website&utm_medium=referral&utm_campaign=footer\n",
      "https://www.immoweb.be/en/frequently-asked-questions\n",
      "https://www.immoweb.be/en/page/fraud\n",
      "https://www.immoweb.be/en/page/accessibility\n",
      "https://www.immoweb.be/en/page/contact-us\n",
      "https://www.facebook.com/immoweb\n",
      "https://twitter.com/immoweb\n",
      "https://www.linkedin.com/company/immoweb\n",
      "https://www.immoweb.be/en/page/terms-of-use\n",
      "#uc-corner-modal-show\n",
      "https://www.immoweb.be/en/page/privacy\n",
      "https://www.cim.be/fr/internet/disclaimer-cim-internet\n",
      "[]\n"
     ]
    }
   ],
   "source": [
    "result = get_data_property(\"https://www.immoweb.be/en/classified/apartment/for-sale/gavere/9890/10146915\")\n",
    "print(result)\n",
    "property_url = \"https://www.immoweb.be/en/classified/apartment/for-sale/gavere/9890/10146915\"\n",
    "reqs = requests.get(property_url)\n",
    "soup = BeautifulSoup(reqs.text, 'html.parser')\n",
    "\n",
    "#saving all the data as a csv file \n",
    "property_urls = []\n",
    "f = open(\"test1.txt\", \"w\")\n",
    "for link in soup.find_all(\"a\"):\n",
    "   link_list = link.get('href')\n",
    "   print(link_list)\n",
    "   f.write(link_list)\n",
    "   f.write(\"\\n\")\n",
    "f.close()\n",
    "print(property_urls)"
   ]
  },
  {
   "cell_type": "code",
   "execution_count": 1,
   "metadata": {},
   "outputs": [
    {
     "name": "stderr",
     "output_type": "stream",
     "text": [
      "C:\\Users\\Aren-Peace\\AppData\\Local\\Temp\\ipykernel_14032\\2256464363.py:3: DeprecationWarning: executable_path has been deprecated, please pass in a Service object\n",
      "  driver = webdriver.Chrome(ChromeDriverManager().install())\n"
     ]
    }
   ],
   "source": [
    "from selenium import webdriver\n",
    "from webdriver_manager.chrome import ChromeDriverManager\n",
    "driver = webdriver.Chrome(ChromeDriverManager().install())\n",
    "import requests \n",
    "from parsel import Selector \n",
    "houses_url_list = []\n",
    "for house_page in range(1, 334): # range should be (1, 334) in order to get at least 10000 observations\n",
    "    apikey = str(house_page)+'&orderBy=relevance'\n",
    "    house_url = \"https://www.immoweb.be/en/search/house/for-sale?countries=BE&page=\"+apikey\n",
    "    driver.implicitly_wait(10)    \n",
    "    driver.get(house_url)\n",
    "    select = Selector(text=driver.page_source) \n",
    "    xpath_houses = '//*[@id=\"main-content\"]/li//h2//a/@href'\n",
    "    houses_page_url = select.xpath(xpath_houses).extract()\n",
    "    houses_url_list.append(houses_page_url)\n",
    "with open('C:/Users/Aren-Peace/Desktop/Becode_Projects/Immo Eliza/real-estate-price-prediction_arnaud/data_acquisition/csv_files/houses_apartments_urls.csv', 'w') as file:\n",
    "    for house_page in houses_url_list:\n",
    "        for url in house_page:\n",
    "            file.write(url+'\\n')"
   ]
  },
  {
   "cell_type": "code",
   "execution_count": 4,
   "metadata": {},
   "outputs": [
    {
     "name": "stderr",
     "output_type": "stream",
     "text": [
      "C:\\Users\\Aren-Peace\\AppData\\Local\\Temp\\ipykernel_14032\\1638820485.py:3: DeprecationWarning: executable_path has been deprecated, please pass in a Service object\n",
      "  driver = webdriver.Chrome(ChromeDriverManager().install())\n"
     ]
    }
   ],
   "source": [
    " \n",
    "from selenium import webdriver\n",
    "from webdriver_manager.chrome import ChromeDriverManager\n",
    "driver = webdriver.Chrome(ChromeDriverManager().install())\n",
    "import requests \n",
    "from parsel import Selector \n",
    "apartments_url_list = []\n",
    "for apartment_page in range(1, 334): # range should be (1, 334) in order to get at least 10000 observations\n",
    "    apikey = str(apartment_page)+'&orderBy=relevance'\n",
    "    apartments_url = 'https://www.immoweb.be/en/search/apartment/for-sale?countries=BE&page='+apikey\n",
    "    driver.implicitly_wait(10)   \n",
    "    driver.get(apartments_url)\n",
    "    select = Selector(text=driver.page_source) \n",
    "    xpath_apartments = '//*[@id=\"main-content\"]/li//h2//a/@href'\n",
    "    apartments_page_url = select.xpath(xpath_apartments).extract()\n",
    "    apartments_url_list.append(apartments_page_url)\n",
    "with open('C:/Users/Aren-Peace/Desktop/Becode_Projects/Immo Eliza/real-estate-price-prediction_arnaud/data_acquisition/csv_files/houses_apartments_urls.csv', 'a') as file:\n",
    "    for page_url in apartments_url_list:\n",
    "        for url in page_url:\n",
    "            file.write(url+'\\n')\n",
    "\n",
    "\n",
    "\n",
    "# to extract all properties urls (needed to handle with javascript)\n",
    "#driver = webdriver.Chrome(executable_path='../web_drivers/chromedriver.exe')\n",
    "# to access the html content of a single property url\n",
    "# to select parts of an XML or HTML text using CSS or XPath and extract data from it\n",
    "# 1) Obtain 10000 url of houses/apartment with webdriver\n",
    "# The url of each house that resulted from the search will be stored in the \"houses_url\" list.\n",
    "# Iterate through all result pages and get the url of each of them\n",
    "    # An implicit wait tells WebDriver to pull the DOM for a\n",
    "    #  certain amount of time when trying to find any element \n",
    "    #     (or elements) not immediately available. \n",
    "    # The first thing you’ll want to do with WebDriver is navigate\n",
    "    #   to a link. The normal way to do this is by calling get method:\n",
    "    # Select usng Selector parts of an XML or HTML text using CSS\n",
    "    #   or XPath expressions and extract data from it.\n",
    "    # Store the xpath query of houses/apartment\n",
    "    # Find nodes matching the xpath ``query`` and return the result\n",
    "    # Approximately 30 houses/apartment in each page.\n",
    "    # Add each page url list to houses_url/apartment_url, like in a matrix.\n",
    "# Store all houses urls in a csv file"
   ]
  }
 ],
 "metadata": {
  "kernelspec": {
   "display_name": "Python 3.10.6 ('immoweb_virtualenv': venv)",
   "language": "python",
   "name": "python3"
  },
  "language_info": {
   "name": "python",
   "version": "3.10.6"
  },
  "orig_nbformat": 4,
  "vscode": {
   "interpreter": {
    "hash": "3a62bbc2931418f85cd9048b99af942572084ded76ebd7092da847e2cc6a38f5"
   }
  }
 },
 "nbformat": 4,
 "nbformat_minor": 2
}
