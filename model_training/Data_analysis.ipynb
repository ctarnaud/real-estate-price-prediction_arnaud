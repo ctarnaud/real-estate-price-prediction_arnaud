{
 "cells": [
  {
   "cell_type": "code",
   "execution_count": 1,
   "metadata": {},
   "outputs": [],
   "source": [
    "import pandas as pd\n",
    "import numpy as np\n",
    "import matplotlib.pyplot as plt\n",
    "import seaborn as sns\n",
    "%matplotlib inline\n",
    "import seaborn as sns\n",
    "import warnings\n",
    "from datetime import date\n",
    "from sklearn.linear_model import LinearRegression\n",
    "from sklearn import tree, linear_model\n",
    "from sklearn.model_selection import train_test_split\n",
    "from sklearn.metrics import mean_absolute_error, median_absolute_error, roc_auc_score, r2_score, explained_variance_score\n",
    "\n",
    "warnings.filterwarnings(\"ignore\")"
   ]
  },
  {
   "cell_type": "code",
   "execution_count": 2,
   "metadata": {},
   "outputs": [
    {
     "data": {
      "text/html": [
       "<div>\n",
       "<style scoped>\n",
       "    .dataframe tbody tr th:only-of-type {\n",
       "        vertical-align: middle;\n",
       "    }\n",
       "\n",
       "    .dataframe tbody tr th {\n",
       "        vertical-align: top;\n",
       "    }\n",
       "\n",
       "    .dataframe thead th {\n",
       "        text-align: right;\n",
       "    }\n",
       "</style>\n",
       "<table border=\"1\" class=\"dataframe\">\n",
       "  <thead>\n",
       "    <tr style=\"text-align: right;\">\n",
       "      <th></th>\n",
       "      <th>ID</th>\n",
       "      <th>Type</th>\n",
       "      <th>SubType</th>\n",
       "      <th>Price</th>\n",
       "      <th>NetHabitableSurface(msq)</th>\n",
       "      <th>BedroomCount</th>\n",
       "      <th>Province</th>\n",
       "      <th>Locality</th>\n",
       "      <th>Region</th>\n",
       "      <th>PostCode</th>\n",
       "      <th>Floor</th>\n",
       "      <th>RegionCode</th>\n",
       "      <th>BuildingCondition</th>\n",
       "      <th>ConstructionYear</th>\n",
       "      <th>FacadeCount</th>\n",
       "      <th>HasBalcony</th>\n",
       "      <th>HasGarden</th>\n",
       "      <th>KitchenType</th>\n",
       "      <th>Status</th>\n",
       "    </tr>\n",
       "  </thead>\n",
       "  <tbody>\n",
       "    <tr>\n",
       "      <th>0</th>\n",
       "      <td>10128188</td>\n",
       "      <td>HOUSE</td>\n",
       "      <td>HOUSE</td>\n",
       "      <td>328330.0</td>\n",
       "      <td>148.0</td>\n",
       "      <td>3.0</td>\n",
       "      <td>Limburg</td>\n",
       "      <td>Zonhoven</td>\n",
       "      <td>Flanders</td>\n",
       "      <td>3520.0</td>\n",
       "      <td>2.0</td>\n",
       "      <td>FLANDERS</td>\n",
       "      <td>NaN</td>\n",
       "      <td>NaN</td>\n",
       "      <td>3.0</td>\n",
       "      <td>0.0</td>\n",
       "      <td>1.0</td>\n",
       "      <td>0.0</td>\n",
       "      <td>0.0</td>\n",
       "    </tr>\n",
       "    <tr>\n",
       "      <th>1</th>\n",
       "      <td>10128189</td>\n",
       "      <td>HOUSE</td>\n",
       "      <td>HOUSE</td>\n",
       "      <td>328330.0</td>\n",
       "      <td>148.0</td>\n",
       "      <td>3.0</td>\n",
       "      <td>Limburg</td>\n",
       "      <td>Zonhoven</td>\n",
       "      <td>Flanders</td>\n",
       "      <td>3520.0</td>\n",
       "      <td>2.0</td>\n",
       "      <td>FLANDERS</td>\n",
       "      <td>NaN</td>\n",
       "      <td>NaN</td>\n",
       "      <td>3.0</td>\n",
       "      <td>0.0</td>\n",
       "      <td>1.0</td>\n",
       "      <td>0.0</td>\n",
       "      <td>0.0</td>\n",
       "    </tr>\n",
       "    <tr>\n",
       "      <th>2</th>\n",
       "      <td>10128190</td>\n",
       "      <td>HOUSE</td>\n",
       "      <td>HOUSE</td>\n",
       "      <td>327829.0</td>\n",
       "      <td>148.0</td>\n",
       "      <td>3.0</td>\n",
       "      <td>Limburg</td>\n",
       "      <td>Zonhoven</td>\n",
       "      <td>Flanders</td>\n",
       "      <td>3520.0</td>\n",
       "      <td>2.0</td>\n",
       "      <td>FLANDERS</td>\n",
       "      <td>NaN</td>\n",
       "      <td>NaN</td>\n",
       "      <td>3.0</td>\n",
       "      <td>0.0</td>\n",
       "      <td>1.0</td>\n",
       "      <td>0.0</td>\n",
       "      <td>0.0</td>\n",
       "    </tr>\n",
       "    <tr>\n",
       "      <th>3</th>\n",
       "      <td>10128191</td>\n",
       "      <td>HOUSE</td>\n",
       "      <td>HOUSE</td>\n",
       "      <td>327829.0</td>\n",
       "      <td>148.0</td>\n",
       "      <td>3.0</td>\n",
       "      <td>Limburg</td>\n",
       "      <td>Zonhoven</td>\n",
       "      <td>Flanders</td>\n",
       "      <td>3520.0</td>\n",
       "      <td>2.0</td>\n",
       "      <td>FLANDERS</td>\n",
       "      <td>NaN</td>\n",
       "      <td>NaN</td>\n",
       "      <td>3.0</td>\n",
       "      <td>0.0</td>\n",
       "      <td>1.0</td>\n",
       "      <td>0.0</td>\n",
       "      <td>0.0</td>\n",
       "    </tr>\n",
       "    <tr>\n",
       "      <th>4</th>\n",
       "      <td>10128192</td>\n",
       "      <td>HOUSE</td>\n",
       "      <td>HOUSE</td>\n",
       "      <td>378242.0</td>\n",
       "      <td>148.0</td>\n",
       "      <td>3.0</td>\n",
       "      <td>Limburg</td>\n",
       "      <td>Zonhoven</td>\n",
       "      <td>Flanders</td>\n",
       "      <td>3520.0</td>\n",
       "      <td>2.0</td>\n",
       "      <td>FLANDERS</td>\n",
       "      <td>NaN</td>\n",
       "      <td>NaN</td>\n",
       "      <td>4.0</td>\n",
       "      <td>0.0</td>\n",
       "      <td>1.0</td>\n",
       "      <td>0.0</td>\n",
       "      <td>0.0</td>\n",
       "    </tr>\n",
       "  </tbody>\n",
       "</table>\n",
       "</div>"
      ],
      "text/plain": [
       "         ID   Type SubType     Price  NetHabitableSurface(msq)  BedroomCount  \\\n",
       "0  10128188  HOUSE   HOUSE  328330.0                     148.0           3.0   \n",
       "1  10128189  HOUSE   HOUSE  328330.0                     148.0           3.0   \n",
       "2  10128190  HOUSE   HOUSE  327829.0                     148.0           3.0   \n",
       "3  10128191  HOUSE   HOUSE  327829.0                     148.0           3.0   \n",
       "4  10128192  HOUSE   HOUSE  378242.0                     148.0           3.0   \n",
       "\n",
       "  Province  Locality    Region  PostCode  Floor RegionCode BuildingCondition  \\\n",
       "0  Limburg  Zonhoven  Flanders    3520.0    2.0   FLANDERS               NaN   \n",
       "1  Limburg  Zonhoven  Flanders    3520.0    2.0   FLANDERS               NaN   \n",
       "2  Limburg  Zonhoven  Flanders    3520.0    2.0   FLANDERS               NaN   \n",
       "3  Limburg  Zonhoven  Flanders    3520.0    2.0   FLANDERS               NaN   \n",
       "4  Limburg  Zonhoven  Flanders    3520.0    2.0   FLANDERS               NaN   \n",
       "\n",
       "   ConstructionYear  FacadeCount  HasBalcony  HasGarden  KitchenType  Status  \n",
       "0               NaN          3.0         0.0        1.0          0.0     0.0  \n",
       "1               NaN          3.0         0.0        1.0          0.0     0.0  \n",
       "2               NaN          3.0         0.0        1.0          0.0     0.0  \n",
       "3               NaN          3.0         0.0        1.0          0.0     0.0  \n",
       "4               NaN          4.0         0.0        1.0          0.0     0.0  "
      ]
     },
     "execution_count": 2,
     "metadata": {},
     "output_type": "execute_result"
    }
   ],
   "source": [
    "pd.set_option('display.max_rows', None)\n",
    "pd.set_option('display.max_columns', None)\n",
    "\n",
    "\n",
    "df_immoweb = pd.read_csv('data.csv')\n",
    "df_immoweb.head()"
   ]
  },
  {
   "cell_type": "code",
   "execution_count": 3,
   "metadata": {},
   "outputs": [
    {
     "data": {
      "text/plain": [
       "12813"
      ]
     },
     "execution_count": 3,
     "metadata": {},
     "output_type": "execute_result"
    }
   ],
   "source": [
    "len(df_immoweb)"
   ]
  },
  {
   "cell_type": "code",
   "execution_count": 4,
   "metadata": {},
   "outputs": [
    {
     "data": {
      "text/html": [
       "<div>\n",
       "<style scoped>\n",
       "    .dataframe tbody tr th:only-of-type {\n",
       "        vertical-align: middle;\n",
       "    }\n",
       "\n",
       "    .dataframe tbody tr th {\n",
       "        vertical-align: top;\n",
       "    }\n",
       "\n",
       "    .dataframe thead th {\n",
       "        text-align: right;\n",
       "    }\n",
       "</style>\n",
       "<table border=\"1\" class=\"dataframe\">\n",
       "  <thead>\n",
       "    <tr style=\"text-align: right;\">\n",
       "      <th></th>\n",
       "      <th>Price</th>\n",
       "      <th>NetHabitableSurface(msq)</th>\n",
       "      <th>BedroomCount</th>\n",
       "      <th>PostCode</th>\n",
       "      <th>Floor</th>\n",
       "      <th>ConstructionYear</th>\n",
       "      <th>FacadeCount</th>\n",
       "      <th>HasBalcony</th>\n",
       "      <th>HasGarden</th>\n",
       "      <th>KitchenType</th>\n",
       "      <th>Status</th>\n",
       "    </tr>\n",
       "  </thead>\n",
       "  <tbody>\n",
       "    <tr>\n",
       "      <th>count</th>\n",
       "      <td>12812.000000</td>\n",
       "      <td>12812.000000</td>\n",
       "      <td>12812.000000</td>\n",
       "      <td>12812.000000</td>\n",
       "      <td>12812.000000</td>\n",
       "      <td>7548.000000</td>\n",
       "      <td>12812.000000</td>\n",
       "      <td>12812.0</td>\n",
       "      <td>12812.000000</td>\n",
       "      <td>12812.000000</td>\n",
       "      <td>12812.000000</td>\n",
       "    </tr>\n",
       "    <tr>\n",
       "      <th>mean</th>\n",
       "      <td>327725.028957</td>\n",
       "      <td>135.337028</td>\n",
       "      <td>2.625429</td>\n",
       "      <td>5015.579067</td>\n",
       "      <td>2.245161</td>\n",
       "      <td>1984.416799</td>\n",
       "      <td>2.205589</td>\n",
       "      <td>0.0</td>\n",
       "      <td>0.331642</td>\n",
       "      <td>1.083281</td>\n",
       "      <td>0.210194</td>\n",
       "    </tr>\n",
       "    <tr>\n",
       "      <th>std</th>\n",
       "      <td>133980.362340</td>\n",
       "      <td>55.471716</td>\n",
       "      <td>0.979671</td>\n",
       "      <td>3141.430548</td>\n",
       "      <td>2.427674</td>\n",
       "      <td>99.562952</td>\n",
       "      <td>1.047482</td>\n",
       "      <td>0.0</td>\n",
       "      <td>0.470822</td>\n",
       "      <td>1.084666</td>\n",
       "      <td>0.407462</td>\n",
       "    </tr>\n",
       "    <tr>\n",
       "      <th>min</th>\n",
       "      <td>55000.000000</td>\n",
       "      <td>12.000000</td>\n",
       "      <td>1.000000</td>\n",
       "      <td>1000.000000</td>\n",
       "      <td>1.000000</td>\n",
       "      <td>1758.000000</td>\n",
       "      <td>1.000000</td>\n",
       "      <td>0.0</td>\n",
       "      <td>0.000000</td>\n",
       "      <td>0.000000</td>\n",
       "      <td>0.000000</td>\n",
       "    </tr>\n",
       "    <tr>\n",
       "      <th>25%</th>\n",
       "      <td>235000.000000</td>\n",
       "      <td>92.000000</td>\n",
       "      <td>2.000000</td>\n",
       "      <td>2180.000000</td>\n",
       "      <td>2.000000</td>\n",
       "      <td>1961.000000</td>\n",
       "      <td>1.000000</td>\n",
       "      <td>0.0</td>\n",
       "      <td>0.000000</td>\n",
       "      <td>0.000000</td>\n",
       "      <td>0.000000</td>\n",
       "    </tr>\n",
       "    <tr>\n",
       "      <th>50%</th>\n",
       "      <td>299051.500000</td>\n",
       "      <td>125.000000</td>\n",
       "      <td>3.000000</td>\n",
       "      <td>4020.000000</td>\n",
       "      <td>2.000000</td>\n",
       "      <td>1987.000000</td>\n",
       "      <td>2.000000</td>\n",
       "      <td>0.0</td>\n",
       "      <td>0.000000</td>\n",
       "      <td>1.000000</td>\n",
       "      <td>0.000000</td>\n",
       "    </tr>\n",
       "    <tr>\n",
       "      <th>75%</th>\n",
       "      <td>398000.000000</td>\n",
       "      <td>170.000000</td>\n",
       "      <td>3.000000</td>\n",
       "      <td>8500.000000</td>\n",
       "      <td>2.000000</td>\n",
       "      <td>2021.000000</td>\n",
       "      <td>3.000000</td>\n",
       "      <td>0.0</td>\n",
       "      <td>1.000000</td>\n",
       "      <td>2.000000</td>\n",
       "      <td>0.000000</td>\n",
       "    </tr>\n",
       "    <tr>\n",
       "      <th>max</th>\n",
       "      <td>755717.000000</td>\n",
       "      <td>301.000000</td>\n",
       "      <td>5.000000</td>\n",
       "      <td>9990.000000</td>\n",
       "      <td>202.000000</td>\n",
       "      <td>9999.000000</td>\n",
       "      <td>4.000000</td>\n",
       "      <td>0.0</td>\n",
       "      <td>1.000000</td>\n",
       "      <td>3.000000</td>\n",
       "      <td>1.000000</td>\n",
       "    </tr>\n",
       "  </tbody>\n",
       "</table>\n",
       "</div>"
      ],
      "text/plain": [
       "               Price  NetHabitableSurface(msq)  BedroomCount      PostCode  \\\n",
       "count   12812.000000              12812.000000  12812.000000  12812.000000   \n",
       "mean   327725.028957                135.337028      2.625429   5015.579067   \n",
       "std    133980.362340                 55.471716      0.979671   3141.430548   \n",
       "min     55000.000000                 12.000000      1.000000   1000.000000   \n",
       "25%    235000.000000                 92.000000      2.000000   2180.000000   \n",
       "50%    299051.500000                125.000000      3.000000   4020.000000   \n",
       "75%    398000.000000                170.000000      3.000000   8500.000000   \n",
       "max    755717.000000                301.000000      5.000000   9990.000000   \n",
       "\n",
       "              Floor  ConstructionYear   FacadeCount  HasBalcony     HasGarden  \\\n",
       "count  12812.000000       7548.000000  12812.000000     12812.0  12812.000000   \n",
       "mean       2.245161       1984.416799      2.205589         0.0      0.331642   \n",
       "std        2.427674         99.562952      1.047482         0.0      0.470822   \n",
       "min        1.000000       1758.000000      1.000000         0.0      0.000000   \n",
       "25%        2.000000       1961.000000      1.000000         0.0      0.000000   \n",
       "50%        2.000000       1987.000000      2.000000         0.0      0.000000   \n",
       "75%        2.000000       2021.000000      3.000000         0.0      1.000000   \n",
       "max      202.000000       9999.000000      4.000000         0.0      1.000000   \n",
       "\n",
       "        KitchenType        Status  \n",
       "count  12812.000000  12812.000000  \n",
       "mean       1.083281      0.210194  \n",
       "std        1.084666      0.407462  \n",
       "min        0.000000      0.000000  \n",
       "25%        0.000000      0.000000  \n",
       "50%        1.000000      0.000000  \n",
       "75%        2.000000      0.000000  \n",
       "max        3.000000      1.000000  "
      ]
     },
     "execution_count": 4,
     "metadata": {},
     "output_type": "execute_result"
    }
   ],
   "source": [
    "df_immoweb.describe()"
   ]
  },
  {
   "cell_type": "code",
   "execution_count": 5,
   "metadata": {},
   "outputs": [
    {
     "name": "stdout",
     "output_type": "stream",
     "text": [
      "<class 'pandas.core.frame.DataFrame'>\n",
      "RangeIndex: 12813 entries, 0 to 12812\n",
      "Data columns (total 19 columns):\n",
      " #   Column                    Non-Null Count  Dtype  \n",
      "---  ------                    --------------  -----  \n",
      " 0   ID                        12813 non-null  object \n",
      " 1   Type                      12812 non-null  object \n",
      " 2   SubType                   12812 non-null  object \n",
      " 3   Price                     12812 non-null  float64\n",
      " 4   NetHabitableSurface(msq)  12812 non-null  float64\n",
      " 5   BedroomCount              12812 non-null  float64\n",
      " 6   Province                  12812 non-null  object \n",
      " 7   Locality                  12812 non-null  object \n",
      " 8   Region                    12812 non-null  object \n",
      " 9   PostCode                  12812 non-null  float64\n",
      " 10  Floor                     12812 non-null  float64\n",
      " 11  RegionCode                12812 non-null  object \n",
      " 12  BuildingCondition         8860 non-null   object \n",
      " 13  ConstructionYear          7548 non-null   float64\n",
      " 14  FacadeCount               12812 non-null  float64\n",
      " 15  HasBalcony                12812 non-null  float64\n",
      " 16  HasGarden                 12812 non-null  float64\n",
      " 17  KitchenType               12812 non-null  float64\n",
      " 18  Status                    12812 non-null  float64\n",
      "dtypes: float64(11), object(8)\n",
      "memory usage: 1.9+ MB\n"
     ]
    }
   ],
   "source": [
    "df_immoweb.info()"
   ]
  },
  {
   "cell_type": "markdown",
   "metadata": {},
   "source": [
    "## Step 1 : Data cleaning\n"
   ]
  },
  {
   "cell_type": "code",
   "execution_count": 7,
   "metadata": {},
   "outputs": [],
   "source": [
    "def calc_age(birthdate):\n",
    "    today = date.today()\n",
    "    age = today.year - birthdate\n",
    "    return age\n",
    "\n",
    "df_immoweb[\"age\"] = calc_age(df_immoweb[\"ConstructionYear\"])\n",
    "\n",
    "# Uncompleted buildings have a negative value for age. Set them to zero.\n",
    "df_immoweb[\"age\"] = df_immoweb[\"age\"].apply(lambda x : x if x > 0 else 0) "
   ]
  },
  {
   "cell_type": "code",
   "execution_count": 13,
   "metadata": {},
   "outputs": [],
   "source": [
    "df_immoweb.sort_values('age')"
   ]
  },
  {
   "cell_type": "code",
   "execution_count": 11,
   "metadata": {},
   "outputs": [
    {
     "data": {
      "text/plain": [
       "(12813, 20)"
      ]
     },
     "execution_count": 11,
     "metadata": {},
     "output_type": "execute_result"
    }
   ],
   "source": [
    "# Size of datset\n",
    "df_immoweb.shape"
   ]
  },
  {
   "cell_type": "code",
   "execution_count": 10,
   "metadata": {},
   "outputs": [
    {
     "data": {
      "text/plain": [
       "(12813, 20)"
      ]
     },
     "execution_count": 10,
     "metadata": {},
     "output_type": "execute_result"
    }
   ],
   "source": [
    "# Drop duplicates if it exists and check the size of the new dataframe\n",
    "df_immoweb = df_immoweb.drop_duplicates()\n",
    "df_immoweb.shape"
   ]
  },
  {
   "cell_type": "code",
   "execution_count": 12,
   "metadata": {},
   "outputs": [
    {
     "data": {
      "text/plain": [
       "ConstructionYear            41.091079\n",
       "BuildingCondition           30.851479\n",
       "Floor                        0.007805\n",
       "Status                       0.007805\n",
       "HasGarden                    0.007805\n",
       "HasBalcony                   0.007805\n",
       "FacadeCount                  0.007805\n",
       "RegionCode                   0.007805\n",
       "Type                         0.007805\n",
       "PostCode                     0.007805\n",
       "Region                       0.007805\n",
       "Locality                     0.007805\n",
       "Province                     0.007805\n",
       "BedroomCount                 0.007805\n",
       "NetHabitableSurface(msq)     0.007805\n",
       "Price                        0.007805\n",
       "SubType                      0.007805\n",
       "KitchenType                  0.007805\n",
       "ID                           0.000000\n",
       "age                          0.000000\n",
       "dtype: float64"
      ]
     },
     "execution_count": 12,
     "metadata": {},
     "output_type": "execute_result"
    }
   ],
   "source": [
    "# Check for NANs\n",
    "(df_immoweb.isnull().sum(axis = 0)* 100 / len(df_immoweb)).sort_values(ascending=False)\n"
   ]
  },
  {
   "cell_type": "code",
   "execution_count": 13,
   "metadata": {},
   "outputs": [],
   "source": [
    "# drop colummns where price is null\n",
    "df_immoweb = df_immoweb[df_immoweb['Price'].notna()]\n"
   ]
  },
  {
   "cell_type": "code",
   "execution_count": 14,
   "metadata": {},
   "outputs": [],
   "source": [
    "# Replace null values with 0\n",
    "df_immoweb = df_immoweb.fillna(0)\n"
   ]
  },
  {
   "cell_type": "code",
   "execution_count": 15,
   "metadata": {},
   "outputs": [
    {
     "data": {
      "text/plain": [
       "ID                          0.0\n",
       "Type                        0.0\n",
       "Status                      0.0\n",
       "KitchenType                 0.0\n",
       "HasGarden                   0.0\n",
       "HasBalcony                  0.0\n",
       "FacadeCount                 0.0\n",
       "ConstructionYear            0.0\n",
       "BuildingCondition           0.0\n",
       "RegionCode                  0.0\n",
       "Floor                       0.0\n",
       "PostCode                    0.0\n",
       "Region                      0.0\n",
       "Locality                    0.0\n",
       "Province                    0.0\n",
       "BedroomCount                0.0\n",
       "NetHabitableSurface(msq)    0.0\n",
       "Price                       0.0\n",
       "SubType                     0.0\n",
       "age                         0.0\n",
       "dtype: float64"
      ]
     },
     "execution_count": 15,
     "metadata": {},
     "output_type": "execute_result"
    }
   ],
   "source": [
    "# No NANs\n",
    "(df_immoweb.isnull().sum(axis = 0)* 100 / len(df_immoweb)).sort_values(ascending=False)"
   ]
  },
  {
   "cell_type": "code",
   "execution_count": 16,
   "metadata": {},
   "outputs": [
    {
     "data": {
      "text/plain": [
       "array(['HOUSE', 'APARTMENT'], dtype=object)"
      ]
     },
     "execution_count": 16,
     "metadata": {},
     "output_type": "execute_result"
    }
   ],
   "source": [
    "df_immoweb['Type'].unique()"
   ]
  },
  {
   "cell_type": "code",
   "execution_count": 17,
   "metadata": {},
   "outputs": [
    {
     "data": {
      "text/plain": [
       "array([0.])"
      ]
     },
     "execution_count": 17,
     "metadata": {},
     "output_type": "execute_result"
    }
   ],
   "source": [
    "df_immoweb['HasBalcony'].unique()"
   ]
  },
  {
   "cell_type": "code",
   "execution_count": 18,
   "metadata": {},
   "outputs": [
    {
     "data": {
      "text/plain": [
       "ID                           object\n",
       "Type                         object\n",
       "SubType                      object\n",
       "Price                       float64\n",
       "NetHabitableSurface(msq)    float64\n",
       "BedroomCount                float64\n",
       "Province                     object\n",
       "Locality                     object\n",
       "Region                       object\n",
       "PostCode                    float64\n",
       "Floor                       float64\n",
       "RegionCode                   object\n",
       "BuildingCondition            object\n",
       "ConstructionYear            float64\n",
       "FacadeCount                 float64\n",
       "HasBalcony                  float64\n",
       "HasGarden                   float64\n",
       "KitchenType                 float64\n",
       "Status                      float64\n",
       "age                         float64\n",
       "dtype: object"
      ]
     },
     "execution_count": 18,
     "metadata": {},
     "output_type": "execute_result"
    }
   ],
   "source": [
    "df_immoweb.dtypes\n"
   ]
  },
  {
   "cell_type": "code",
   "execution_count": 19,
   "metadata": {},
   "outputs": [],
   "source": [
    "# Transform categorical data\n",
    "\n",
    "columns = df_immoweb.columns\n",
    "\n",
    "# for column in columns :\n",
    "\n",
    "#     df_immoweb[column] =df_immoweb[column].replace(-1, np.nan)\n",
    "    \n",
    "map_type_of_property = {\n",
    "                        \"HOUSE\" : 1,\n",
    "                        \"APARTMENT\" : 2\n",
    "                        }\n",
    "\n",
    "map_state_of_the_building = {\n",
    "                            \"AS_NEW\" : 2.0,\n",
    "                            \"JUST_RENOVATED\" : 2.0,\n",
    "                            \"GOOD\" : 2.0,\n",
    "                            \"TO_BE_DONE_UP\" : 1.0,\n",
    "                            \"TO_RENOVATE\" : 1.0,\n",
    "                            \"TO_RESTORE\" : 1.0,\n",
    "                            \"NO_INFO\" : 1.0\n",
    "                            }\n",
    "\n",
    "map_subtype_of_the_building = {\n",
    "                         'HOUSE' : 1, \n",
    "                         'APARTMENT': 2, \n",
    "                         'PENTHOUSE': 3, \n",
    "                         'FLAT_STUDIO': 4,\n",
    "                         'COUNTRY_COTTAGE': 5, \n",
    "                         'MIXED_USE_BUILDING': 6, \n",
    "                         'TOWN_HOUSE': 7, \n",
    "                         'VILLA': 8,\n",
    "                         'MANSION': 9, \n",
    "                         'DUPLEX': 10, \n",
    "                         'GROUND_FLOOR': 11, \n",
    "                         'APARTMENT_BLOCK': 12, \n",
    "                         'CHALET': 13,\n",
    "                         'EXCEPTIONAL_PROPERTY': 14,\n",
    "                         'OTHER_PROPERTY': 15, \n",
    "                         'FARMHOUSE': 16, \n",
    "                         'TRIPLEX': 17,\n",
    "                         'BUNGALOW': 18, \n",
    "                         'SERVICE_FLAT': 19, \n",
    "                         'KOT': 20, \n",
    "                         'MANOR_HOUSE': 21, \n",
    "                         'LOFT': 22\n",
    "                            }\n",
    "\n",
    "\n",
    "\n",
    "df_immoweb[\"Type\"] = df_immoweb[\"Type\"].map(map_type_of_property)\n",
    "\n",
    "df_immoweb[\"BuildingConditions\"] = df_immoweb[\"BuildingCondition\"].map(map_state_of_the_building)\n",
    "df_immoweb[\"SubType\"] = df_immoweb[\"SubType\"].map(map_subtype_of_the_building)\n",
    "\n",
    "# Replace null values with 0\n",
    "df_immoweb = df_immoweb.fillna(0)"
   ]
  },
  {
   "cell_type": "code",
   "execution_count": 20,
   "metadata": {},
   "outputs": [
    {
     "data": {
      "text/html": [
       "<div>\n",
       "<style scoped>\n",
       "    .dataframe tbody tr th:only-of-type {\n",
       "        vertical-align: middle;\n",
       "    }\n",
       "\n",
       "    .dataframe tbody tr th {\n",
       "        vertical-align: top;\n",
       "    }\n",
       "\n",
       "    .dataframe thead th {\n",
       "        text-align: right;\n",
       "    }\n",
       "</style>\n",
       "<table border=\"1\" class=\"dataframe\">\n",
       "  <thead>\n",
       "    <tr style=\"text-align: right;\">\n",
       "      <th></th>\n",
       "      <th>ID</th>\n",
       "      <th>Type</th>\n",
       "      <th>SubType</th>\n",
       "      <th>Price</th>\n",
       "      <th>NetHabitableSurface(msq)</th>\n",
       "      <th>BedroomCount</th>\n",
       "      <th>Province</th>\n",
       "      <th>Locality</th>\n",
       "      <th>Region</th>\n",
       "      <th>PostCode</th>\n",
       "      <th>Floor</th>\n",
       "      <th>RegionCode</th>\n",
       "      <th>BuildingCondition</th>\n",
       "      <th>ConstructionYear</th>\n",
       "      <th>FacadeCount</th>\n",
       "      <th>HasBalcony</th>\n",
       "      <th>HasGarden</th>\n",
       "      <th>KitchenType</th>\n",
       "      <th>Status</th>\n",
       "      <th>age</th>\n",
       "      <th>BuildingConditions</th>\n",
       "    </tr>\n",
       "  </thead>\n",
       "  <tbody>\n",
       "    <tr>\n",
       "      <th>0</th>\n",
       "      <td>10128188</td>\n",
       "      <td>1</td>\n",
       "      <td>1</td>\n",
       "      <td>328330.0</td>\n",
       "      <td>148.0</td>\n",
       "      <td>3.0</td>\n",
       "      <td>Limburg</td>\n",
       "      <td>Zonhoven</td>\n",
       "      <td>Flanders</td>\n",
       "      <td>3520.0</td>\n",
       "      <td>2.0</td>\n",
       "      <td>FLANDERS</td>\n",
       "      <td>0</td>\n",
       "      <td>0.0</td>\n",
       "      <td>3.0</td>\n",
       "      <td>0.0</td>\n",
       "      <td>1.0</td>\n",
       "      <td>0.0</td>\n",
       "      <td>0.0</td>\n",
       "      <td>0.0</td>\n",
       "      <td>0.0</td>\n",
       "    </tr>\n",
       "    <tr>\n",
       "      <th>1</th>\n",
       "      <td>10128189</td>\n",
       "      <td>1</td>\n",
       "      <td>1</td>\n",
       "      <td>328330.0</td>\n",
       "      <td>148.0</td>\n",
       "      <td>3.0</td>\n",
       "      <td>Limburg</td>\n",
       "      <td>Zonhoven</td>\n",
       "      <td>Flanders</td>\n",
       "      <td>3520.0</td>\n",
       "      <td>2.0</td>\n",
       "      <td>FLANDERS</td>\n",
       "      <td>0</td>\n",
       "      <td>0.0</td>\n",
       "      <td>3.0</td>\n",
       "      <td>0.0</td>\n",
       "      <td>1.0</td>\n",
       "      <td>0.0</td>\n",
       "      <td>0.0</td>\n",
       "      <td>0.0</td>\n",
       "      <td>0.0</td>\n",
       "    </tr>\n",
       "    <tr>\n",
       "      <th>2</th>\n",
       "      <td>10128190</td>\n",
       "      <td>1</td>\n",
       "      <td>1</td>\n",
       "      <td>327829.0</td>\n",
       "      <td>148.0</td>\n",
       "      <td>3.0</td>\n",
       "      <td>Limburg</td>\n",
       "      <td>Zonhoven</td>\n",
       "      <td>Flanders</td>\n",
       "      <td>3520.0</td>\n",
       "      <td>2.0</td>\n",
       "      <td>FLANDERS</td>\n",
       "      <td>0</td>\n",
       "      <td>0.0</td>\n",
       "      <td>3.0</td>\n",
       "      <td>0.0</td>\n",
       "      <td>1.0</td>\n",
       "      <td>0.0</td>\n",
       "      <td>0.0</td>\n",
       "      <td>0.0</td>\n",
       "      <td>0.0</td>\n",
       "    </tr>\n",
       "    <tr>\n",
       "      <th>3</th>\n",
       "      <td>10128191</td>\n",
       "      <td>1</td>\n",
       "      <td>1</td>\n",
       "      <td>327829.0</td>\n",
       "      <td>148.0</td>\n",
       "      <td>3.0</td>\n",
       "      <td>Limburg</td>\n",
       "      <td>Zonhoven</td>\n",
       "      <td>Flanders</td>\n",
       "      <td>3520.0</td>\n",
       "      <td>2.0</td>\n",
       "      <td>FLANDERS</td>\n",
       "      <td>0</td>\n",
       "      <td>0.0</td>\n",
       "      <td>3.0</td>\n",
       "      <td>0.0</td>\n",
       "      <td>1.0</td>\n",
       "      <td>0.0</td>\n",
       "      <td>0.0</td>\n",
       "      <td>0.0</td>\n",
       "      <td>0.0</td>\n",
       "    </tr>\n",
       "    <tr>\n",
       "      <th>4</th>\n",
       "      <td>10128192</td>\n",
       "      <td>1</td>\n",
       "      <td>1</td>\n",
       "      <td>378242.0</td>\n",
       "      <td>148.0</td>\n",
       "      <td>3.0</td>\n",
       "      <td>Limburg</td>\n",
       "      <td>Zonhoven</td>\n",
       "      <td>Flanders</td>\n",
       "      <td>3520.0</td>\n",
       "      <td>2.0</td>\n",
       "      <td>FLANDERS</td>\n",
       "      <td>0</td>\n",
       "      <td>0.0</td>\n",
       "      <td>4.0</td>\n",
       "      <td>0.0</td>\n",
       "      <td>1.0</td>\n",
       "      <td>0.0</td>\n",
       "      <td>0.0</td>\n",
       "      <td>0.0</td>\n",
       "      <td>0.0</td>\n",
       "    </tr>\n",
       "  </tbody>\n",
       "</table>\n",
       "</div>"
      ],
      "text/plain": [
       "         ID  Type  SubType     Price  NetHabitableSurface(msq)  BedroomCount  \\\n",
       "0  10128188     1        1  328330.0                     148.0           3.0   \n",
       "1  10128189     1        1  328330.0                     148.0           3.0   \n",
       "2  10128190     1        1  327829.0                     148.0           3.0   \n",
       "3  10128191     1        1  327829.0                     148.0           3.0   \n",
       "4  10128192     1        1  378242.0                     148.0           3.0   \n",
       "\n",
       "  Province  Locality    Region  PostCode  Floor RegionCode BuildingCondition  \\\n",
       "0  Limburg  Zonhoven  Flanders    3520.0    2.0   FLANDERS                 0   \n",
       "1  Limburg  Zonhoven  Flanders    3520.0    2.0   FLANDERS                 0   \n",
       "2  Limburg  Zonhoven  Flanders    3520.0    2.0   FLANDERS                 0   \n",
       "3  Limburg  Zonhoven  Flanders    3520.0    2.0   FLANDERS                 0   \n",
       "4  Limburg  Zonhoven  Flanders    3520.0    2.0   FLANDERS                 0   \n",
       "\n",
       "   ConstructionYear  FacadeCount  HasBalcony  HasGarden  KitchenType  Status  \\\n",
       "0               0.0          3.0         0.0        1.0          0.0     0.0   \n",
       "1               0.0          3.0         0.0        1.0          0.0     0.0   \n",
       "2               0.0          3.0         0.0        1.0          0.0     0.0   \n",
       "3               0.0          3.0         0.0        1.0          0.0     0.0   \n",
       "4               0.0          4.0         0.0        1.0          0.0     0.0   \n",
       "\n",
       "   age  BuildingConditions  \n",
       "0  0.0                 0.0  \n",
       "1  0.0                 0.0  \n",
       "2  0.0                 0.0  \n",
       "3  0.0                 0.0  \n",
       "4  0.0                 0.0  "
      ]
     },
     "execution_count": 20,
     "metadata": {},
     "output_type": "execute_result"
    }
   ],
   "source": [
    "df_immoweb.head()"
   ]
  },
  {
   "cell_type": "code",
   "execution_count": 21,
   "metadata": {},
   "outputs": [
    {
     "data": {
      "text/plain": [
       "Index(['ID', 'Type', 'SubType', 'Price', 'NetHabitableSurface(msq)',\n",
       "       'BedroomCount', 'Province', 'Locality', 'Region', 'PostCode', 'Floor',\n",
       "       'RegionCode', 'BuildingCondition', 'ConstructionYear', 'FacadeCount',\n",
       "       'HasBalcony', 'HasGarden', 'KitchenType', 'Status', 'age',\n",
       "       'BuildingConditions'],\n",
       "      dtype='object')"
      ]
     },
     "execution_count": 21,
     "metadata": {},
     "output_type": "execute_result"
    }
   ],
   "source": [
    "df_immoweb.columns"
   ]
  },
  {
   "cell_type": "code",
   "execution_count": 22,
   "metadata": {},
   "outputs": [],
   "source": [
    "df_immoweb[\"localisation_score\"] = np.nan\n",
    "\n",
    "for index, row in df_immoweb.iterrows() :\n",
    "\n",
    "    if df_immoweb[df_immoweb[\"PostCode\"] == row[\"PostCode\"]].shape[0] > 30 :\n",
    "\n",
    "        df_immoweb.loc[index,[\"localisation_score\"]] = df_immoweb[df_immoweb[\"PostCode\"]== row[\"PostCode\"]][\"Price\"].mean()\n",
    "\n",
    "    elif df_immoweb[df_immoweb[\"Locality\"] == row[\"Locality\"]].shape[0] > 30 :\n",
    "\n",
    "        df_immoweb.loc[index,[\"localisation_score\"]] = df_immoweb[df_immoweb[\"Locality\"]== row[\"Locality\"]][\"Price\"].mean()\n",
    "\n",
    "    else :\n",
    "\n",
    "        df_immoweb.loc[index,[\"localisation_score\"]] = df_immoweb[df_immoweb[\"Province\"]== row[\"Province\"]][\"Price\"].mean()"
   ]
  },
  {
   "cell_type": "code",
   "execution_count": 23,
   "metadata": {},
   "outputs": [
    {
     "data": {
      "text/html": [
       "<div>\n",
       "<style scoped>\n",
       "    .dataframe tbody tr th:only-of-type {\n",
       "        vertical-align: middle;\n",
       "    }\n",
       "\n",
       "    .dataframe tbody tr th {\n",
       "        vertical-align: top;\n",
       "    }\n",
       "\n",
       "    .dataframe thead th {\n",
       "        text-align: right;\n",
       "    }\n",
       "</style>\n",
       "<table border=\"1\" class=\"dataframe\">\n",
       "  <thead>\n",
       "    <tr style=\"text-align: right;\">\n",
       "      <th></th>\n",
       "      <th>ID</th>\n",
       "      <th>Type</th>\n",
       "      <th>SubType</th>\n",
       "      <th>Price</th>\n",
       "      <th>NetHabitableSurface(msq)</th>\n",
       "      <th>BedroomCount</th>\n",
       "      <th>Province</th>\n",
       "      <th>Locality</th>\n",
       "      <th>Region</th>\n",
       "      <th>PostCode</th>\n",
       "      <th>Floor</th>\n",
       "      <th>RegionCode</th>\n",
       "      <th>BuildingCondition</th>\n",
       "      <th>ConstructionYear</th>\n",
       "      <th>FacadeCount</th>\n",
       "      <th>HasBalcony</th>\n",
       "      <th>HasGarden</th>\n",
       "      <th>KitchenType</th>\n",
       "      <th>Status</th>\n",
       "      <th>age</th>\n",
       "      <th>BuildingConditions</th>\n",
       "      <th>localisation_score</th>\n",
       "    </tr>\n",
       "  </thead>\n",
       "  <tbody>\n",
       "    <tr>\n",
       "      <th>0</th>\n",
       "      <td>10128188</td>\n",
       "      <td>1</td>\n",
       "      <td>1</td>\n",
       "      <td>328330.0</td>\n",
       "      <td>148.0</td>\n",
       "      <td>3.0</td>\n",
       "      <td>Limburg</td>\n",
       "      <td>Zonhoven</td>\n",
       "      <td>Flanders</td>\n",
       "      <td>3520.0</td>\n",
       "      <td>2.0</td>\n",
       "      <td>FLANDERS</td>\n",
       "      <td>0</td>\n",
       "      <td>0.0</td>\n",
       "      <td>3.0</td>\n",
       "      <td>0.0</td>\n",
       "      <td>1.0</td>\n",
       "      <td>0.0</td>\n",
       "      <td>0.0</td>\n",
       "      <td>0.0</td>\n",
       "      <td>0.0</td>\n",
       "      <td>324134.752475</td>\n",
       "    </tr>\n",
       "    <tr>\n",
       "      <th>1</th>\n",
       "      <td>10128189</td>\n",
       "      <td>1</td>\n",
       "      <td>1</td>\n",
       "      <td>328330.0</td>\n",
       "      <td>148.0</td>\n",
       "      <td>3.0</td>\n",
       "      <td>Limburg</td>\n",
       "      <td>Zonhoven</td>\n",
       "      <td>Flanders</td>\n",
       "      <td>3520.0</td>\n",
       "      <td>2.0</td>\n",
       "      <td>FLANDERS</td>\n",
       "      <td>0</td>\n",
       "      <td>0.0</td>\n",
       "      <td>3.0</td>\n",
       "      <td>0.0</td>\n",
       "      <td>1.0</td>\n",
       "      <td>0.0</td>\n",
       "      <td>0.0</td>\n",
       "      <td>0.0</td>\n",
       "      <td>0.0</td>\n",
       "      <td>324134.752475</td>\n",
       "    </tr>\n",
       "    <tr>\n",
       "      <th>2</th>\n",
       "      <td>10128190</td>\n",
       "      <td>1</td>\n",
       "      <td>1</td>\n",
       "      <td>327829.0</td>\n",
       "      <td>148.0</td>\n",
       "      <td>3.0</td>\n",
       "      <td>Limburg</td>\n",
       "      <td>Zonhoven</td>\n",
       "      <td>Flanders</td>\n",
       "      <td>3520.0</td>\n",
       "      <td>2.0</td>\n",
       "      <td>FLANDERS</td>\n",
       "      <td>0</td>\n",
       "      <td>0.0</td>\n",
       "      <td>3.0</td>\n",
       "      <td>0.0</td>\n",
       "      <td>1.0</td>\n",
       "      <td>0.0</td>\n",
       "      <td>0.0</td>\n",
       "      <td>0.0</td>\n",
       "      <td>0.0</td>\n",
       "      <td>324134.752475</td>\n",
       "    </tr>\n",
       "    <tr>\n",
       "      <th>3</th>\n",
       "      <td>10128191</td>\n",
       "      <td>1</td>\n",
       "      <td>1</td>\n",
       "      <td>327829.0</td>\n",
       "      <td>148.0</td>\n",
       "      <td>3.0</td>\n",
       "      <td>Limburg</td>\n",
       "      <td>Zonhoven</td>\n",
       "      <td>Flanders</td>\n",
       "      <td>3520.0</td>\n",
       "      <td>2.0</td>\n",
       "      <td>FLANDERS</td>\n",
       "      <td>0</td>\n",
       "      <td>0.0</td>\n",
       "      <td>3.0</td>\n",
       "      <td>0.0</td>\n",
       "      <td>1.0</td>\n",
       "      <td>0.0</td>\n",
       "      <td>0.0</td>\n",
       "      <td>0.0</td>\n",
       "      <td>0.0</td>\n",
       "      <td>324134.752475</td>\n",
       "    </tr>\n",
       "    <tr>\n",
       "      <th>4</th>\n",
       "      <td>10128192</td>\n",
       "      <td>1</td>\n",
       "      <td>1</td>\n",
       "      <td>378242.0</td>\n",
       "      <td>148.0</td>\n",
       "      <td>3.0</td>\n",
       "      <td>Limburg</td>\n",
       "      <td>Zonhoven</td>\n",
       "      <td>Flanders</td>\n",
       "      <td>3520.0</td>\n",
       "      <td>2.0</td>\n",
       "      <td>FLANDERS</td>\n",
       "      <td>0</td>\n",
       "      <td>0.0</td>\n",
       "      <td>4.0</td>\n",
       "      <td>0.0</td>\n",
       "      <td>1.0</td>\n",
       "      <td>0.0</td>\n",
       "      <td>0.0</td>\n",
       "      <td>0.0</td>\n",
       "      <td>0.0</td>\n",
       "      <td>324134.752475</td>\n",
       "    </tr>\n",
       "  </tbody>\n",
       "</table>\n",
       "</div>"
      ],
      "text/plain": [
       "         ID  Type  SubType     Price  NetHabitableSurface(msq)  BedroomCount  \\\n",
       "0  10128188     1        1  328330.0                     148.0           3.0   \n",
       "1  10128189     1        1  328330.0                     148.0           3.0   \n",
       "2  10128190     1        1  327829.0                     148.0           3.0   \n",
       "3  10128191     1        1  327829.0                     148.0           3.0   \n",
       "4  10128192     1        1  378242.0                     148.0           3.0   \n",
       "\n",
       "  Province  Locality    Region  PostCode  Floor RegionCode BuildingCondition  \\\n",
       "0  Limburg  Zonhoven  Flanders    3520.0    2.0   FLANDERS                 0   \n",
       "1  Limburg  Zonhoven  Flanders    3520.0    2.0   FLANDERS                 0   \n",
       "2  Limburg  Zonhoven  Flanders    3520.0    2.0   FLANDERS                 0   \n",
       "3  Limburg  Zonhoven  Flanders    3520.0    2.0   FLANDERS                 0   \n",
       "4  Limburg  Zonhoven  Flanders    3520.0    2.0   FLANDERS                 0   \n",
       "\n",
       "   ConstructionYear  FacadeCount  HasBalcony  HasGarden  KitchenType  Status  \\\n",
       "0               0.0          3.0         0.0        1.0          0.0     0.0   \n",
       "1               0.0          3.0         0.0        1.0          0.0     0.0   \n",
       "2               0.0          3.0         0.0        1.0          0.0     0.0   \n",
       "3               0.0          3.0         0.0        1.0          0.0     0.0   \n",
       "4               0.0          4.0         0.0        1.0          0.0     0.0   \n",
       "\n",
       "   age  BuildingConditions  localisation_score  \n",
       "0  0.0                 0.0       324134.752475  \n",
       "1  0.0                 0.0       324134.752475  \n",
       "2  0.0                 0.0       324134.752475  \n",
       "3  0.0                 0.0       324134.752475  \n",
       "4  0.0                 0.0       324134.752475  "
      ]
     },
     "execution_count": 23,
     "metadata": {},
     "output_type": "execute_result"
    }
   ],
   "source": [
    "df_immoweb.head()"
   ]
  },
  {
   "cell_type": "code",
   "execution_count": 24,
   "metadata": {},
   "outputs": [
    {
     "data": {
      "text/html": [
       "<div>\n",
       "<style scoped>\n",
       "    .dataframe tbody tr th:only-of-type {\n",
       "        vertical-align: middle;\n",
       "    }\n",
       "\n",
       "    .dataframe tbody tr th {\n",
       "        vertical-align: top;\n",
       "    }\n",
       "\n",
       "    .dataframe thead th {\n",
       "        text-align: right;\n",
       "    }\n",
       "</style>\n",
       "<table border=\"1\" class=\"dataframe\">\n",
       "  <thead>\n",
       "    <tr style=\"text-align: right;\">\n",
       "      <th></th>\n",
       "      <th>Type</th>\n",
       "      <th>SubType</th>\n",
       "      <th>NetHabitableSurface(msq)</th>\n",
       "      <th>BedroomCount</th>\n",
       "      <th>Floor</th>\n",
       "      <th>FacadeCount</th>\n",
       "      <th>HasGarden</th>\n",
       "      <th>KitchenType</th>\n",
       "      <th>Status</th>\n",
       "      <th>age</th>\n",
       "      <th>BuildingConditions</th>\n",
       "      <th>localisation_score</th>\n",
       "      <th>Price</th>\n",
       "    </tr>\n",
       "  </thead>\n",
       "  <tbody>\n",
       "    <tr>\n",
       "      <th>0</th>\n",
       "      <td>1</td>\n",
       "      <td>1</td>\n",
       "      <td>148.0</td>\n",
       "      <td>3.0</td>\n",
       "      <td>2.0</td>\n",
       "      <td>3.0</td>\n",
       "      <td>1.0</td>\n",
       "      <td>0.0</td>\n",
       "      <td>0.0</td>\n",
       "      <td>0.0</td>\n",
       "      <td>0.0</td>\n",
       "      <td>324134.752475</td>\n",
       "      <td>328330.0</td>\n",
       "    </tr>\n",
       "    <tr>\n",
       "      <th>1</th>\n",
       "      <td>1</td>\n",
       "      <td>1</td>\n",
       "      <td>148.0</td>\n",
       "      <td>3.0</td>\n",
       "      <td>2.0</td>\n",
       "      <td>3.0</td>\n",
       "      <td>1.0</td>\n",
       "      <td>0.0</td>\n",
       "      <td>0.0</td>\n",
       "      <td>0.0</td>\n",
       "      <td>0.0</td>\n",
       "      <td>324134.752475</td>\n",
       "      <td>328330.0</td>\n",
       "    </tr>\n",
       "    <tr>\n",
       "      <th>2</th>\n",
       "      <td>1</td>\n",
       "      <td>1</td>\n",
       "      <td>148.0</td>\n",
       "      <td>3.0</td>\n",
       "      <td>2.0</td>\n",
       "      <td>3.0</td>\n",
       "      <td>1.0</td>\n",
       "      <td>0.0</td>\n",
       "      <td>0.0</td>\n",
       "      <td>0.0</td>\n",
       "      <td>0.0</td>\n",
       "      <td>324134.752475</td>\n",
       "      <td>327829.0</td>\n",
       "    </tr>\n",
       "    <tr>\n",
       "      <th>3</th>\n",
       "      <td>1</td>\n",
       "      <td>1</td>\n",
       "      <td>148.0</td>\n",
       "      <td>3.0</td>\n",
       "      <td>2.0</td>\n",
       "      <td>3.0</td>\n",
       "      <td>1.0</td>\n",
       "      <td>0.0</td>\n",
       "      <td>0.0</td>\n",
       "      <td>0.0</td>\n",
       "      <td>0.0</td>\n",
       "      <td>324134.752475</td>\n",
       "      <td>327829.0</td>\n",
       "    </tr>\n",
       "    <tr>\n",
       "      <th>4</th>\n",
       "      <td>1</td>\n",
       "      <td>1</td>\n",
       "      <td>148.0</td>\n",
       "      <td>3.0</td>\n",
       "      <td>2.0</td>\n",
       "      <td>4.0</td>\n",
       "      <td>1.0</td>\n",
       "      <td>0.0</td>\n",
       "      <td>0.0</td>\n",
       "      <td>0.0</td>\n",
       "      <td>0.0</td>\n",
       "      <td>324134.752475</td>\n",
       "      <td>378242.0</td>\n",
       "    </tr>\n",
       "  </tbody>\n",
       "</table>\n",
       "</div>"
      ],
      "text/plain": [
       "   Type  SubType  NetHabitableSurface(msq)  BedroomCount  Floor  FacadeCount  \\\n",
       "0     1        1                     148.0           3.0    2.0          3.0   \n",
       "1     1        1                     148.0           3.0    2.0          3.0   \n",
       "2     1        1                     148.0           3.0    2.0          3.0   \n",
       "3     1        1                     148.0           3.0    2.0          3.0   \n",
       "4     1        1                     148.0           3.0    2.0          4.0   \n",
       "\n",
       "   HasGarden  KitchenType  Status  age  BuildingConditions  \\\n",
       "0        1.0          0.0     0.0  0.0                 0.0   \n",
       "1        1.0          0.0     0.0  0.0                 0.0   \n",
       "2        1.0          0.0     0.0  0.0                 0.0   \n",
       "3        1.0          0.0     0.0  0.0                 0.0   \n",
       "4        1.0          0.0     0.0  0.0                 0.0   \n",
       "\n",
       "   localisation_score     Price  \n",
       "0       324134.752475  328330.0  \n",
       "1       324134.752475  328330.0  \n",
       "2       324134.752475  327829.0  \n",
       "3       324134.752475  327829.0  \n",
       "4       324134.752475  378242.0  "
      ]
     },
     "execution_count": 24,
     "metadata": {},
     "output_type": "execute_result"
    }
   ],
   "source": [
    "# NB: HasBalcony is dropped since all its values are zero\n",
    "\n",
    "df_immoweb_clean = df_immoweb[['Type', 'SubType', 'NetHabitableSurface(msq)',\n",
    "       'BedroomCount', 'Floor', 'FacadeCount',\n",
    "       'HasGarden', 'KitchenType', 'Status', 'age',\n",
    "       'BuildingConditions', 'localisation_score', 'Price']]\n",
    "\n",
    "df_immoweb_clean.head()"
   ]
  },
  {
   "cell_type": "markdown",
   "metadata": {},
   "source": [
    "## 2) Data Formatting"
   ]
  },
  {
   "cell_type": "markdown",
   "metadata": {},
   "source": [
    "#### Standardisation of values\n"
   ]
  },
  {
   "cell_type": "markdown",
   "metadata": {},
   "source": [
    "#### Now that the dataset is ready, you have to format it for machine learning:\n",
    "#### Divide your dataset for training and testing. ( X_train , y_train , X_test , y_test )"
   ]
  },
  {
   "cell_type": "code",
   "execution_count": 25,
   "metadata": {},
   "outputs": [
    {
     "data": {
      "text/plain": [
       "<AxesSubplot: >"
      ]
     },
     "execution_count": 25,
     "metadata": {},
     "output_type": "execute_result"
    },
    {
     "data": {
      "image/png": "[encoded data removed]",
      "text/plain": [
       "<Figure size 2000x1000 with 2 Axes>"
      ]
     },
     "metadata": {},
     "output_type": "display_data"
    }
   ],
   "source": [
    "# GETTING Correllation matrix\n",
    "corr_mat=df_immoweb_clean.corr(method='pearson')\n",
    "plt.figure(figsize=(20,10))\n",
    "sns.heatmap(corr_mat,vmax=1,square=True,annot=True,cmap='cubehelix')"
   ]
  },
  {
   "cell_type": "markdown",
   "metadata": {},
   "source": [
    "From the correlation plot, we notice that there exist multicollinearity(correlation between explanatory variable) between \"Type\" and 'NetHabitableSurface(msq)','BedroomCount'. This not required by regression, thus we drop \"Type\"."
   ]
  },
  {
   "cell_type": "code",
   "execution_count": 26,
   "metadata": {},
   "outputs": [],
   "source": [
    "df_immoweb_clean = df_immoweb_clean.drop(['Type'], axis=1)"
   ]
  },
  {
   "cell_type": "code",
   "execution_count": 27,
   "metadata": {},
   "outputs": [],
   "source": [
    "from sklearn.linear_model import LinearRegression\n",
    "from sklearn import tree, linear_model\n",
    "from sklearn.model_selection import train_test_split\n",
    "from sklearn.metrics import mean_squared_error\n",
    "\n",
    "\n",
    "\n",
    "#To include all variables, we assign X and y\n",
    "y = df_immoweb_clean.iloc[:,-1] # target: Last variable in dataset\n",
    "X = df_immoweb_clean.iloc[:, :-1] # features: Every other vaiable except the last one\n",
    "X_train, X_test, y_train, y_test = train_test_split(X, y ,test_size=0.3)\n",
    "\n",
    "# NB: test_size=0.3 implies 30% of the data will be used to test the model while 70% of the data will be used to train the model.  \n",
    "\n",
    "\n",
    "# For Simmple Linear Regression, we assign X_Simple and y_Simple\n",
    "df_immoweb_simple = df_immoweb_clean[['age', 'Price']]\n",
    "y_Simple = df_immoweb_simple.iloc[:,-1] #target variable\n",
    "X_Simple = df_immoweb_simple.iloc[:, :-1] # Indepndent variable\n",
    "X_Simple_train, X_Simple_test, y_Simple_train, y_Simple_test = train_test_split(X_Simple, y_Simple ,test_size=0.3)"
   ]
  },
  {
   "cell_type": "markdown",
   "metadata": {},
   "source": [
    "## Step 3 : Model selection and Step 4: Model training\n",
    "The dataset is ready. Now let's select a model.\n",
    "Look at which models make the most sense according to your data.\n",
    "Since the dependent variable is continuous, we consider some regression models\n"
   ]
  },
  {
   "cell_type": "markdown",
   "metadata": {},
   "source": [
    "### Regression Modelling"
   ]
  },
  {
   "cell_type": "markdown",
   "metadata": {},
   "source": [
    "#### Model 1 : SimpleLinear Regression \n",
    "Question: Does the age of a building( Whether House or Appartment) have an EFFECT on the price of a house or can age of a building ALONE be used to predict the price of a building?\n",
    "Answer: To verify this question, we can do a simplelinear regression usiing Price and age(In this case we use X_Simple). "
   ]
  },
  {
   "cell_type": "code",
   "execution_count": 28,
   "metadata": {},
   "outputs": [],
   "source": [
    "from sklearn.linear_model import LinearRegression\n",
    "Simple_Linear_Regession = LinearRegression()\n",
    "SLR = Simple_Linear_Regession.fit(X_Simple_train,y_Simple_train) #actually produces the linear eqn for the data\n",
    "y_simple_pred = SLR.predict(X_Simple_test)"
   ]
  },
  {
   "cell_type": "code",
   "execution_count": 29,
   "metadata": {},
   "outputs": [
    {
     "data": {
      "image/png": "[encoded data removed]",
      "text/plain": [
       "<Figure size 600x600 with 1 Axes>"
      ]
     },
     "metadata": {},
     "output_type": "display_data"
    }
   ],
   "source": [
    "plt.figure(figsize=(6,6))\n",
    "plt.scatter(X_Simple,y_Simple)\n",
    "plt.plot(X_Simple_test, y_simple_pred, color=\"red\")\n",
    "plt.show()"
   ]
  },
  {
   "cell_type": "code",
   "execution_count": 30,
   "metadata": {},
   "outputs": [
    {
     "name": "stdout",
     "output_type": "stream",
     "text": [
      "0.00014411574088080137\n"
     ]
    }
   ],
   "source": [
    "R2_SLR= SLR.score(X_Simple, y_Simple)\n",
    "print(R2_SLR)"
   ]
  },
  {
   "cell_type": "code",
   "execution_count": 31,
   "metadata": {},
   "outputs": [
    {
     "data": {
      "text/plain": [
       "133584.60384938962"
      ]
     },
     "execution_count": 31,
     "metadata": {},
     "output_type": "execute_result"
    }
   ],
   "source": [
    "rmse_SLR = mean_squared_error(y_Simple_test, y_simple_pred, squared = False)\n",
    "rmse_SLR"
   ]
  },
  {
   "cell_type": "markdown",
   "metadata": {},
   "source": [
    "#### R-Squared value: We expect this to be close to 1. The value is very low(0.00005) implying that(based on the data) we can not use the age of a house alone to predict the price of the house. We need to add more variables to the model."
   ]
  },
  {
   "cell_type": "markdown",
   "metadata": {},
   "source": [
    "#### Model 2 : Multiple Linear Regression: Add All regression variable\n"
   ]
  },
  {
   "cell_type": "code",
   "execution_count": 32,
   "metadata": {},
   "outputs": [],
   "source": [
    "Multiple_Linear_Regession = LinearRegression()\n",
    "MLR = Simple_Linear_Regession.fit(X_train,y_train) #actually produces the linear eqn for the data\n",
    "pred_mlr = SLR.predict(X_test)"
   ]
  },
  {
   "cell_type": "code",
   "execution_count": 33,
   "metadata": {},
   "outputs": [
    {
     "data": {
      "text/plain": [
       "0.52671073037679"
      ]
     },
     "execution_count": 33,
     "metadata": {},
     "output_type": "execute_result"
    }
   ],
   "source": [
    "R2_MLR = MLR.score(X_train, y_train)\n",
    "R2_MLR"
   ]
  },
  {
   "cell_type": "code",
   "execution_count": 34,
   "metadata": {},
   "outputs": [
    {
     "data": {
      "text/plain": [
       "91407.2122709589"
      ]
     },
     "execution_count": 34,
     "metadata": {},
     "output_type": "execute_result"
    }
   ],
   "source": [
    "rmse_MLR = mean_squared_error(y_test, pred_mlr, squared = False)\n",
    "rmse_MLR"
   ]
  },
  {
   "cell_type": "markdown",
   "metadata": {},
   "source": [
    "#### Model 3: Random Forest Regressor\n"
   ]
  },
  {
   "cell_type": "code",
   "execution_count": 35,
   "metadata": {},
   "outputs": [],
   "source": [
    "from sklearn.ensemble import RandomForestRegressor"
   ]
  },
  {
   "cell_type": "code",
   "execution_count": 36,
   "metadata": {},
   "outputs": [],
   "source": [
    "RFR = RandomForestRegressor(max_depth=15, random_state=2022)\n",
    "\n",
    "RFR_reg = RFR.fit(X_train, y_train)\n",
    "\n",
    "# Prediction\n",
    "pred_RFR = RFR_reg.predict(X_test)"
   ]
  },
  {
   "cell_type": "code",
   "execution_count": 37,
   "metadata": {},
   "outputs": [
    {
     "data": {
      "text/plain": [
       "0.9277375571183853"
      ]
     },
     "execution_count": 37,
     "metadata": {},
     "output_type": "execute_result"
    }
   ],
   "source": [
    "R2_RFR = RFR.score(X_train,y_train)\n",
    "R2_RFR"
   ]
  },
  {
   "cell_type": "code",
   "execution_count": 38,
   "metadata": {},
   "outputs": [
    {
     "data": {
      "text/plain": [
       "74786.18457564797"
      ]
     },
     "execution_count": 38,
     "metadata": {},
     "output_type": "execute_result"
    }
   ],
   "source": [
    "rmse_RFR = mean_squared_error(pred_RFR, y_test, squared = False)\n",
    "rmse_RFR"
   ]
  },
  {
   "cell_type": "markdown",
   "metadata": {},
   "source": [
    "## Model Evaluation\n",
    "Let's evaluate your model by selecting the most appropriate metrics. Which\n",
    "performance did you reach?"
   ]
  },
  {
   "cell_type": "code",
   "execution_count": 39,
   "metadata": {
    "scrolled": true
   },
   "outputs": [
    {
     "data": {
      "text/html": [
       "<div>\n",
       "<style scoped>\n",
       "    .dataframe tbody tr th:only-of-type {\n",
       "        vertical-align: middle;\n",
       "    }\n",
       "\n",
       "    .dataframe tbody tr th {\n",
       "        vertical-align: top;\n",
       "    }\n",
       "\n",
       "    .dataframe thead th {\n",
       "        text-align: right;\n",
       "    }\n",
       "</style>\n",
       "<table border=\"1\" class=\"dataframe\">\n",
       "  <thead>\n",
       "    <tr style=\"text-align: right;\">\n",
       "      <th></th>\n",
       "      <th>R-Squared</th>\n",
       "      <th>Root Mean Square Error</th>\n",
       "    </tr>\n",
       "  </thead>\n",
       "  <tbody>\n",
       "    <tr>\n",
       "      <th>Simple Linear Regression</th>\n",
       "      <td>0.000144</td>\n",
       "      <td>133584.603849</td>\n",
       "    </tr>\n",
       "    <tr>\n",
       "      <th>Multiple Linear Regression</th>\n",
       "      <td>0.526711</td>\n",
       "      <td>91407.212271</td>\n",
       "    </tr>\n",
       "    <tr>\n",
       "      <th>Random Forest Regressor</th>\n",
       "      <td>0.927738</td>\n",
       "      <td>74786.184576</td>\n",
       "    </tr>\n",
       "  </tbody>\n",
       "</table>\n",
       "</div>"
      ],
      "text/plain": [
       "                            R-Squared  Root Mean Square Error\n",
       "Simple Linear Regression     0.000144           133584.603849\n",
       "Multiple Linear Regression   0.526711            91407.212271\n",
       "Random Forest Regressor      0.927738            74786.184576"
      ]
     },
     "execution_count": 39,
     "metadata": {},
     "output_type": "execute_result"
    }
   ],
   "source": [
    "R_SQUARED =[R2_SLR, R2_MLR, R2_RFR]\n",
    "RMSE=[rmse_SLR, rmse_MLR, rmse_RFR]\n",
    "\n",
    "col={'R-Squared':R_SQUARED,'Root Mean Square Error':RMSE}\n",
    "models=['Simple Linear Regression','Multiple Linear Regression','Random Forest Regressor']\n",
    "df_models = pd.DataFrame(data=col,index=models)\n",
    "df_models"
   ]
  },
  {
   "cell_type": "markdown",
   "metadata": {},
   "source": [
    "Note: Random Forest Regressor has the best performance given it has the lowest RMSE. RMSE  compares the difference between the actual price values in the test set and the predicted price values by our model."
   ]
  },
  {
   "cell_type": "markdown",
   "metadata": {},
   "source": [
    "#### How could you improve this result?\n",
    "This results could be improved by adding more features(explanatory variables) and also adding more data for the model to train on. This could help explain more of the variability of housing price."
   ]
  },
  {
   "cell_type": "markdown",
   "metadata": {},
   "source": [
    "#### Which part of the process has the most impact on the results?\n",
    "\n",
    "The training part has more impact on the results. This is because the model trains on historical and uses it to predict on new data. If there is not enough data and features, the more learns very little from the data hence a lower predictive power and vice versa.\n"
   ]
  },
  {
   "cell_type": "markdown",
   "metadata": {},
   "source": [
    "#### How should you divide your time working on this kind of project?\n",
    "\n",
    "To work on this kind of project, I will allocate more time to collecting data, cleaning and preparing data. This process take a lot more time than generating a model."
   ]
  }
 ],
 "metadata": {
  "kernelspec": {
   "display_name": "Python 3.10.6 64-bit",
   "language": "python",
   "name": "python3"
  },
  "language_info": {
   "codemirror_mode": {
    "name": "ipython",
    "version": 3
   },
   "file_extension": ".py",
   "mimetype": "text/x-python",
   "name": "python",
   "nbconvert_exporter": "python",
   "pygments_lexer": "ipython3",
   "version": "3.10.6"
  },
  "vscode": {
   "interpreter": {
    "hash": "3891649ea8e2256ec63eeb3aeb87bbafb9fc4457180a0f2ecbd2a0353fa640c5"
   }
  }
 },
 "nbformat": 4,
 "nbformat_minor": 2
}
